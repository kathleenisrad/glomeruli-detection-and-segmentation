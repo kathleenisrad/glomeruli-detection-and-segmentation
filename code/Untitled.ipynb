{
 "cells": [
  {
   "cell_type": "code",
   "execution_count": 1,
   "id": "computational-overhead",
   "metadata": {},
   "outputs": [],
   "source": [
    "import os\n",
    "import cv2\n",
    "import tifffile as tiff\n",
    "import imutils\n",
    "import numpy as np\n",
    "import random\n",
    "from PIL import Image"
   ]
  },
  {
   "cell_type": "code",
   "execution_count": 3,
   "id": "rising-detector",
   "metadata": {},
   "outputs": [],
   "source": [
    "mask_list = os.listdir('../train/masks/slices')"
   ]
  },
  {
   "cell_type": "code",
   "execution_count": 11,
   "id": "through-praise",
   "metadata": {},
   "outputs": [],
   "source": [
    "for name in mask_list:\n",
    "    img_id = name[:-5]\n",
    "    path = os.path.join('../train/masks/slices', name)\n",
    "    png_path = os.path.join('../train/masks/slices', img_id + '.png')\n",
    "    im = tiff.imread(path)\n",
    "    im = Image.fromarray(im)\n",
    "    im.save(png_path) "
   ]
  },
  {
   "cell_type": "code",
   "execution_count": 13,
   "id": "random-religion",
   "metadata": {},
   "outputs": [],
   "source": [
    "for name in mask_list:\n",
    "    path = os.path.join('../train/masks/slices', name)\n",
    "    if os.path.isfile(path): \n",
    "        os.remove(path)"
   ]
  },
  {
   "cell_type": "code",
   "execution_count": null,
   "id": "subtle-spirituality",
   "metadata": {},
   "outputs": [],
   "source": []
  }
 ],
 "metadata": {
  "kernelspec": {
   "display_name": "Python 3",
   "language": "python",
   "name": "python3"
  },
  "language_info": {
   "codemirror_mode": {
    "name": "ipython",
    "version": 3
   },
   "file_extension": ".py",
   "mimetype": "text/x-python",
   "name": "python",
   "nbconvert_exporter": "python",
   "pygments_lexer": "ipython3",
   "version": "3.8.5"
  }
 },
 "nbformat": 4,
 "nbformat_minor": 5
}
