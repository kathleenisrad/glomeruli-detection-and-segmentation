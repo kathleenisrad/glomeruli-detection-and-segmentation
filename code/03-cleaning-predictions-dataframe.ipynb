{
 "cells": [
  {
   "cell_type": "markdown",
   "id": "supreme-stylus",
   "metadata": {},
   "source": [
    "### I have to clean that dataframe of predictions I made\n",
    "There was probably a better way to save the predictions."
   ]
  },
  {
   "cell_type": "code",
   "execution_count": 1,
   "id": "laden-victorian",
   "metadata": {},
   "outputs": [],
   "source": [
    "import numpy as np\n",
    "import pandas as pd\n",
    "import json"
   ]
  },
  {
   "cell_type": "code",
   "execution_count": 2,
   "id": "brave-proxy",
   "metadata": {},
   "outputs": [],
   "source": [
    "df = pd.read_csv('../CSVs/test_preds.csv')"
   ]
  },
  {
   "cell_type": "code",
   "execution_count": 3,
   "id": "sitting-market",
   "metadata": {},
   "outputs": [],
   "source": [
    "df = df.drop('labels', axis = 1)"
   ]
  },
  {
   "cell_type": "code",
   "execution_count": 4,
   "id": "animal-texture",
   "metadata": {},
   "outputs": [
    {
     "data": {
      "text/html": [
       "<div>\n",
       "<style scoped>\n",
       "    .dataframe tbody tr th:only-of-type {\n",
       "        vertical-align: middle;\n",
       "    }\n",
       "\n",
       "    .dataframe tbody tr th {\n",
       "        vertical-align: top;\n",
       "    }\n",
       "\n",
       "    .dataframe thead th {\n",
       "        text-align: right;\n",
       "    }\n",
       "</style>\n",
       "<table border=\"1\" class=\"dataframe\">\n",
       "  <thead>\n",
       "    <tr style=\"text-align: right;\">\n",
       "      <th></th>\n",
       "      <th>filename</th>\n",
       "      <th>boxes</th>\n",
       "      <th>scores</th>\n",
       "    </tr>\n",
       "  </thead>\n",
       "  <tbody>\n",
       "    <tr>\n",
       "      <th>0</th>\n",
       "      <td>26dc41664_0_0.tiff</td>\n",
       "      <td>tensor([[351.8979, 595.6012, 353.0101, 595.978...</td>\n",
       "      <td>tensor([0.1850, 0.0802], device='cuda:0')</td>\n",
       "    </tr>\n",
       "    <tr>\n",
       "      <th>1</th>\n",
       "      <td>26dc41664_0_10576.tiff</td>\n",
       "      <td>tensor([[  0.8213, 595.5236,   2.7035, 595.982...</td>\n",
       "      <td>tensor([0.2273, 0.2135], device='cuda:0')</td>\n",
       "    </tr>\n",
       "    <tr>\n",
       "      <th>2</th>\n",
       "      <td>26dc41664_0_11237.tiff</td>\n",
       "      <td>tensor([[  6.0920, 595.8847,  10.6282, 595.998...</td>\n",
       "      <td>tensor([0.3000, 0.2998, 0.0830, 0.0738], devic...</td>\n",
       "    </tr>\n",
       "    <tr>\n",
       "      <th>3</th>\n",
       "      <td>26dc41664_0_11898.tiff</td>\n",
       "      <td>tensor([[  0.9095, 595.4414,   2.7767, 596.000...</td>\n",
       "      <td>tensor([0.1307, 0.1217], device='cuda:0')</td>\n",
       "    </tr>\n",
       "    <tr>\n",
       "      <th>4</th>\n",
       "      <td>26dc41664_0_12559.tiff</td>\n",
       "      <td>tensor([[  2.4880, 595.9504,   4.4031, 596.000...</td>\n",
       "      <td>tensor([0.3689, 0.0760, 0.0659], device='cuda:0')</td>\n",
       "    </tr>\n",
       "  </tbody>\n",
       "</table>\n",
       "</div>"
      ],
      "text/plain": [
       "                 filename                                              boxes  \\\n",
       "0      26dc41664_0_0.tiff  tensor([[351.8979, 595.6012, 353.0101, 595.978...   \n",
       "1  26dc41664_0_10576.tiff  tensor([[  0.8213, 595.5236,   2.7035, 595.982...   \n",
       "2  26dc41664_0_11237.tiff  tensor([[  6.0920, 595.8847,  10.6282, 595.998...   \n",
       "3  26dc41664_0_11898.tiff  tensor([[  0.9095, 595.4414,   2.7767, 596.000...   \n",
       "4  26dc41664_0_12559.tiff  tensor([[  2.4880, 595.9504,   4.4031, 596.000...   \n",
       "\n",
       "                                              scores  \n",
       "0          tensor([0.1850, 0.0802], device='cuda:0')  \n",
       "1          tensor([0.2273, 0.2135], device='cuda:0')  \n",
       "2  tensor([0.3000, 0.2998, 0.0830, 0.0738], devic...  \n",
       "3          tensor([0.1307, 0.1217], device='cuda:0')  \n",
       "4  tensor([0.3689, 0.0760, 0.0659], device='cuda:0')  "
      ]
     },
     "execution_count": 4,
     "metadata": {},
     "output_type": "execute_result"
    }
   ],
   "source": [
    "df.head()"
   ]
  },
  {
   "cell_type": "code",
   "execution_count": 5,
   "id": "lasting-confidentiality",
   "metadata": {},
   "outputs": [],
   "source": [
    "df['boxes'] = df['boxes'].map(lambda x:']'.join('['.join(x.split('[')[1:]).split(']')[:-1]).replace(' ', '').replace('\\n', ' '))"
   ]
  },
  {
   "cell_type": "code",
   "execution_count": 6,
   "id": "dependent-payroll",
   "metadata": {},
   "outputs": [],
   "source": [
    "df['scores'] = df['scores'].map(lambda x: ']'.join('['.join(x.split('[')[1:]).split(']')[:-1]).replace(' ', '').replace('\\n', ' '))"
   ]
  },
  {
   "cell_type": "code",
   "execution_count": 7,
   "id": "attended-checklist",
   "metadata": {},
   "outputs": [
    {
     "data": {
      "text/html": [
       "<div>\n",
       "<style scoped>\n",
       "    .dataframe tbody tr th:only-of-type {\n",
       "        vertical-align: middle;\n",
       "    }\n",
       "\n",
       "    .dataframe tbody tr th {\n",
       "        vertical-align: top;\n",
       "    }\n",
       "\n",
       "    .dataframe thead th {\n",
       "        text-align: right;\n",
       "    }\n",
       "</style>\n",
       "<table border=\"1\" class=\"dataframe\">\n",
       "  <thead>\n",
       "    <tr style=\"text-align: right;\">\n",
       "      <th></th>\n",
       "      <th>filename</th>\n",
       "      <th>boxes</th>\n",
       "      <th>scores</th>\n",
       "    </tr>\n",
       "  </thead>\n",
       "  <tbody>\n",
       "    <tr>\n",
       "      <th>0</th>\n",
       "      <td>26dc41664_0_0.tiff</td>\n",
       "      <td>[351.8979,595.6012,353.0101,595.9781], [351.42...</td>\n",
       "      <td>0.1850,0.0802</td>\n",
       "    </tr>\n",
       "    <tr>\n",
       "      <th>1</th>\n",
       "      <td>26dc41664_0_10576.tiff</td>\n",
       "      <td>[0.8213,595.5236,2.7035,595.9822], [3.1453,595...</td>\n",
       "      <td>0.2273,0.2135</td>\n",
       "    </tr>\n",
       "    <tr>\n",
       "      <th>2</th>\n",
       "      <td>26dc41664_0_11237.tiff</td>\n",
       "      <td>[6.0920,595.8847,10.6282,595.9988], [2.6143,59...</td>\n",
       "      <td>0.3000,0.2998,0.0830,0.0738</td>\n",
       "    </tr>\n",
       "    <tr>\n",
       "      <th>3</th>\n",
       "      <td>26dc41664_0_11898.tiff</td>\n",
       "      <td>[0.9095,595.4414,2.7767,596.0000], [3.2004,595...</td>\n",
       "      <td>0.1307,0.1217</td>\n",
       "    </tr>\n",
       "    <tr>\n",
       "      <th>4</th>\n",
       "      <td>26dc41664_0_12559.tiff</td>\n",
       "      <td>[2.4880,595.9504,4.4031,596.0000], [0.8694,595...</td>\n",
       "      <td>0.3689,0.0760,0.0659</td>\n",
       "    </tr>\n",
       "    <tr>\n",
       "      <th>...</th>\n",
       "      <td>...</td>\n",
       "      <td>...</td>\n",
       "      <td>...</td>\n",
       "    </tr>\n",
       "    <tr>\n",
       "      <th>3807</th>\n",
       "      <td>c68fe75ea_9218_3110.tiff</td>\n",
       "      <td>[823.4862,534.6097,982.4601,678.8016], [641.43...</td>\n",
       "      <td>0.9607,0.8904,0.8256,0.6654,0.3460,0.2012,0.16...</td>\n",
       "    </tr>\n",
       "    <tr>\n",
       "      <th>3808</th>\n",
       "      <td>c68fe75ea_9218_4665.tiff</td>\n",
       "      <td>[417.0461,694.6158,631.2170,835.2570], [997.00...</td>\n",
       "      <td>0.6410,0.4676,0.4649,0.2963,0.1561,0.1510,0.11...</td>\n",
       "    </tr>\n",
       "    <tr>\n",
       "      <th>3809</th>\n",
       "      <td>c68fe75ea_9218_6220.tiff</td>\n",
       "      <td></td>\n",
       "      <td></td>\n",
       "    </tr>\n",
       "    <tr>\n",
       "      <th>3810</th>\n",
       "      <td>c68fe75ea_9218_7775.tiff</td>\n",
       "      <td>[273.5630,721.1519,425.2934,832.9785]</td>\n",
       "      <td>0.0634</td>\n",
       "    </tr>\n",
       "    <tr>\n",
       "      <th>3811</th>\n",
       "      <td>c68fe75ea_9218_9330.tiff</td>\n",
       "      <td>[428.8139,720.5917,507.8343,811.3051]</td>\n",
       "      <td>0.1358</td>\n",
       "    </tr>\n",
       "  </tbody>\n",
       "</table>\n",
       "<p>3812 rows × 3 columns</p>\n",
       "</div>"
      ],
      "text/plain": [
       "                      filename  \\\n",
       "0           26dc41664_0_0.tiff   \n",
       "1       26dc41664_0_10576.tiff   \n",
       "2       26dc41664_0_11237.tiff   \n",
       "3       26dc41664_0_11898.tiff   \n",
       "4       26dc41664_0_12559.tiff   \n",
       "...                        ...   \n",
       "3807  c68fe75ea_9218_3110.tiff   \n",
       "3808  c68fe75ea_9218_4665.tiff   \n",
       "3809  c68fe75ea_9218_6220.tiff   \n",
       "3810  c68fe75ea_9218_7775.tiff   \n",
       "3811  c68fe75ea_9218_9330.tiff   \n",
       "\n",
       "                                                  boxes  \\\n",
       "0     [351.8979,595.6012,353.0101,595.9781], [351.42...   \n",
       "1     [0.8213,595.5236,2.7035,595.9822], [3.1453,595...   \n",
       "2     [6.0920,595.8847,10.6282,595.9988], [2.6143,59...   \n",
       "3     [0.9095,595.4414,2.7767,596.0000], [3.2004,595...   \n",
       "4     [2.4880,595.9504,4.4031,596.0000], [0.8694,595...   \n",
       "...                                                 ...   \n",
       "3807  [823.4862,534.6097,982.4601,678.8016], [641.43...   \n",
       "3808  [417.0461,694.6158,631.2170,835.2570], [997.00...   \n",
       "3809                                                      \n",
       "3810              [273.5630,721.1519,425.2934,832.9785]   \n",
       "3811              [428.8139,720.5917,507.8343,811.3051]   \n",
       "\n",
       "                                                 scores  \n",
       "0                                         0.1850,0.0802  \n",
       "1                                         0.2273,0.2135  \n",
       "2                           0.3000,0.2998,0.0830,0.0738  \n",
       "3                                         0.1307,0.1217  \n",
       "4                                  0.3689,0.0760,0.0659  \n",
       "...                                                 ...  \n",
       "3807  0.9607,0.8904,0.8256,0.6654,0.3460,0.2012,0.16...  \n",
       "3808  0.6410,0.4676,0.4649,0.2963,0.1561,0.1510,0.11...  \n",
       "3809                                                     \n",
       "3810                                             0.0634  \n",
       "3811                                             0.1358  \n",
       "\n",
       "[3812 rows x 3 columns]"
      ]
     },
     "execution_count": 7,
     "metadata": {},
     "output_type": "execute_result"
    }
   ],
   "source": [
    "df"
   ]
  },
  {
   "cell_type": "code",
   "execution_count": 8,
   "id": "express-lodging",
   "metadata": {},
   "outputs": [
    {
     "data": {
      "text/plain": [
       "''"
      ]
     },
     "execution_count": 8,
     "metadata": {},
     "output_type": "execute_result"
    }
   ],
   "source": [
    "df['boxes'][18]"
   ]
  },
  {
   "cell_type": "code",
   "execution_count": 9,
   "id": "ambient-legislature",
   "metadata": {
    "scrolled": true
   },
   "outputs": [],
   "source": [
    "l = []\n",
    "for rows in range(len(df['boxes'])):\n",
    "    e = df['boxes'][rows]\n",
    "    if len(df['boxes'][rows]) > 0:\n",
    "        e = eval(df['boxes'][rows])\n",
    "    l.append(e)"
   ]
  },
  {
   "cell_type": "code",
   "execution_count": 10,
   "id": "iraqi-advocacy",
   "metadata": {},
   "outputs": [],
   "source": [
    "df['boxes'] = l"
   ]
  },
  {
   "cell_type": "code",
   "execution_count": 11,
   "id": "clean-rally",
   "metadata": {},
   "outputs": [],
   "source": [
    "l2 = []\n",
    "for rows in range(len(df['scores'])):\n",
    "    e = df['scores'][rows]\n",
    "    if len(df['scores'][rows]) > 0:\n",
    "        e = eval(df['scores'][rows])\n",
    "    l2.append(e)"
   ]
  },
  {
   "cell_type": "code",
   "execution_count": 12,
   "id": "tracked-antigua",
   "metadata": {},
   "outputs": [],
   "source": [
    "df['scores'] = l2"
   ]
  },
  {
   "cell_type": "code",
   "execution_count": 15,
   "id": "committed-efficiency",
   "metadata": {},
   "outputs": [
    {
     "data": {
      "text/plain": [
       "[3.1453, 595.568, 7.4623, 595.9863]"
      ]
     },
     "execution_count": 15,
     "metadata": {},
     "output_type": "execute_result"
    }
   ],
   "source": [
    "df['boxes'][1][1]"
   ]
  },
  {
   "cell_type": "code",
   "execution_count": 13,
   "id": "unlikely-morning",
   "metadata": {},
   "outputs": [],
   "source": [
    "df.to_csv('../CSVs/preds_clean.csv', index=False)"
   ]
  },
  {
   "cell_type": "code",
   "execution_count": 14,
   "id": "large-karaoke",
   "metadata": {},
   "outputs": [
    {
     "data": {
      "text/html": [
       "<div>\n",
       "<style scoped>\n",
       "    .dataframe tbody tr th:only-of-type {\n",
       "        vertical-align: middle;\n",
       "    }\n",
       "\n",
       "    .dataframe tbody tr th {\n",
       "        vertical-align: top;\n",
       "    }\n",
       "\n",
       "    .dataframe thead th {\n",
       "        text-align: right;\n",
       "    }\n",
       "</style>\n",
       "<table border=\"1\" class=\"dataframe\">\n",
       "  <thead>\n",
       "    <tr style=\"text-align: right;\">\n",
       "      <th></th>\n",
       "      <th>filename</th>\n",
       "      <th>boxes</th>\n",
       "      <th>scores</th>\n",
       "    </tr>\n",
       "  </thead>\n",
       "  <tbody>\n",
       "    <tr>\n",
       "      <th>0</th>\n",
       "      <td>26dc41664_0_0.tiff</td>\n",
       "      <td>([351.8979, 595.6012, 353.0101, 595.9781], [35...</td>\n",
       "      <td>(0.185, 0.0802)</td>\n",
       "    </tr>\n",
       "    <tr>\n",
       "      <th>1</th>\n",
       "      <td>26dc41664_0_10576.tiff</td>\n",
       "      <td>([0.8213, 595.5236, 2.7035, 595.9822], [3.1453...</td>\n",
       "      <td>(0.2273, 0.2135)</td>\n",
       "    </tr>\n",
       "    <tr>\n",
       "      <th>2</th>\n",
       "      <td>26dc41664_0_11237.tiff</td>\n",
       "      <td>([6.092, 595.8847, 10.6282, 595.9988], [2.6143...</td>\n",
       "      <td>(0.3, 0.2998, 0.083, 0.0738)</td>\n",
       "    </tr>\n",
       "    <tr>\n",
       "      <th>3</th>\n",
       "      <td>26dc41664_0_11898.tiff</td>\n",
       "      <td>([0.9095, 595.4414, 2.7767, 596.0], [3.2004, 5...</td>\n",
       "      <td>(0.1307, 0.1217)</td>\n",
       "    </tr>\n",
       "    <tr>\n",
       "      <th>4</th>\n",
       "      <td>26dc41664_0_12559.tiff</td>\n",
       "      <td>([2.488, 595.9504, 4.4031, 596.0], [0.8694, 59...</td>\n",
       "      <td>(0.3689, 0.076, 0.0659)</td>\n",
       "    </tr>\n",
       "    <tr>\n",
       "      <th>...</th>\n",
       "      <td>...</td>\n",
       "      <td>...</td>\n",
       "      <td>...</td>\n",
       "    </tr>\n",
       "    <tr>\n",
       "      <th>3807</th>\n",
       "      <td>c68fe75ea_9218_3110.tiff</td>\n",
       "      <td>([823.4862, 534.6097, 982.4601, 678.8016], [64...</td>\n",
       "      <td>(0.9607, 0.8904, 0.8256, 0.6654, 0.346, 0.2012...</td>\n",
       "    </tr>\n",
       "    <tr>\n",
       "      <th>3808</th>\n",
       "      <td>c68fe75ea_9218_4665.tiff</td>\n",
       "      <td>([417.0461, 694.6158, 631.217, 835.257], [997....</td>\n",
       "      <td>(0.641, 0.4676, 0.4649, 0.2963, 0.1561, 0.151,...</td>\n",
       "    </tr>\n",
       "    <tr>\n",
       "      <th>3809</th>\n",
       "      <td>c68fe75ea_9218_6220.tiff</td>\n",
       "      <td></td>\n",
       "      <td></td>\n",
       "    </tr>\n",
       "    <tr>\n",
       "      <th>3810</th>\n",
       "      <td>c68fe75ea_9218_7775.tiff</td>\n",
       "      <td>[273.563, 721.1519, 425.2934, 832.9785]</td>\n",
       "      <td>0.0634</td>\n",
       "    </tr>\n",
       "    <tr>\n",
       "      <th>3811</th>\n",
       "      <td>c68fe75ea_9218_9330.tiff</td>\n",
       "      <td>[428.8139, 720.5917, 507.8343, 811.3051]</td>\n",
       "      <td>0.1358</td>\n",
       "    </tr>\n",
       "  </tbody>\n",
       "</table>\n",
       "<p>3812 rows × 3 columns</p>\n",
       "</div>"
      ],
      "text/plain": [
       "                      filename  \\\n",
       "0           26dc41664_0_0.tiff   \n",
       "1       26dc41664_0_10576.tiff   \n",
       "2       26dc41664_0_11237.tiff   \n",
       "3       26dc41664_0_11898.tiff   \n",
       "4       26dc41664_0_12559.tiff   \n",
       "...                        ...   \n",
       "3807  c68fe75ea_9218_3110.tiff   \n",
       "3808  c68fe75ea_9218_4665.tiff   \n",
       "3809  c68fe75ea_9218_6220.tiff   \n",
       "3810  c68fe75ea_9218_7775.tiff   \n",
       "3811  c68fe75ea_9218_9330.tiff   \n",
       "\n",
       "                                                  boxes  \\\n",
       "0     ([351.8979, 595.6012, 353.0101, 595.9781], [35...   \n",
       "1     ([0.8213, 595.5236, 2.7035, 595.9822], [3.1453...   \n",
       "2     ([6.092, 595.8847, 10.6282, 595.9988], [2.6143...   \n",
       "3     ([0.9095, 595.4414, 2.7767, 596.0], [3.2004, 5...   \n",
       "4     ([2.488, 595.9504, 4.4031, 596.0], [0.8694, 59...   \n",
       "...                                                 ...   \n",
       "3807  ([823.4862, 534.6097, 982.4601, 678.8016], [64...   \n",
       "3808  ([417.0461, 694.6158, 631.217, 835.257], [997....   \n",
       "3809                                                      \n",
       "3810            [273.563, 721.1519, 425.2934, 832.9785]   \n",
       "3811           [428.8139, 720.5917, 507.8343, 811.3051]   \n",
       "\n",
       "                                                 scores  \n",
       "0                                       (0.185, 0.0802)  \n",
       "1                                      (0.2273, 0.2135)  \n",
       "2                          (0.3, 0.2998, 0.083, 0.0738)  \n",
       "3                                      (0.1307, 0.1217)  \n",
       "4                               (0.3689, 0.076, 0.0659)  \n",
       "...                                                 ...  \n",
       "3807  (0.9607, 0.8904, 0.8256, 0.6654, 0.346, 0.2012...  \n",
       "3808  (0.641, 0.4676, 0.4649, 0.2963, 0.1561, 0.151,...  \n",
       "3809                                                     \n",
       "3810                                             0.0634  \n",
       "3811                                             0.1358  \n",
       "\n",
       "[3812 rows x 3 columns]"
      ]
     },
     "execution_count": 14,
     "metadata": {},
     "output_type": "execute_result"
    }
   ],
   "source": [
    "df"
   ]
  }
 ],
 "metadata": {
  "kernelspec": {
   "display_name": "Python 3",
   "language": "python",
   "name": "python3"
  },
  "language_info": {
   "codemirror_mode": {
    "name": "ipython",
    "version": 3
   },
   "file_extension": ".py",
   "mimetype": "text/x-python",
   "name": "python",
   "nbconvert_exporter": "python",
   "pygments_lexer": "ipython3",
   "version": "3.8.5"
  }
 },
 "nbformat": 4,
 "nbformat_minor": 5
}
