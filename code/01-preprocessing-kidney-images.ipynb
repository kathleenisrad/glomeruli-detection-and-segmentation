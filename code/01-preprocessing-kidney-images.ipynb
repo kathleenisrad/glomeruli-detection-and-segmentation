{
 "cells": [
  {
   "cell_type": "markdown",
   "metadata": {},
   "source": [
    "# Prepping Images for Training\n",
    "\n",
    "If you have the original images and want to preprocess them like I did, just run this notebook!\n",
    "\n",
    "- I saved some code that visualizes the masks/rectangles at the end of the notebook as Raw NBConvert.\n",
    "- If you want to visualize the bounding boxes/masks, just turn them back into code cells and run!\n",
    "\n",
    "In this notebook:\n",
    "\n",
    " - I resize the images to 50% of the original size and turn the images into greyscale and save them.\n",
    " - I slice the images and masks and save them.\n",
    " - I find the coordinates for the rectangles around the masks for each of the kidney images.\n",
    " - I create and save a dataframe containing the target cell info of the sliced images."
   ]
  },
  {
   "cell_type": "markdown",
   "metadata": {},
   "source": [
    "## Import things"
   ]
  },
  {
   "cell_type": "code",
   "execution_count": 1,
   "metadata": {},
   "outputs": [],
   "source": [
    "import os\n",
    "import cv2\n",
    "\n",
    "import numpy as np\n",
    "import pandas as pd\n",
    "import random\n",
    "\n",
    "import tifffile as tiff\n",
    "import imutils\n",
    "import matplotlib.pyplot as plt\n",
    "\n",
    "from PIL import Image"
   ]
  },
  {
   "cell_type": "code",
   "execution_count": 2,
   "metadata": {},
   "outputs": [],
   "source": [
    "img_path = '../train/images/'\n",
    "images = os.listdir(img_path)\n",
    "\n",
    "mask_path = '../train/masks'\n",
    "\n",
    "test_path = '../test/images/'"
   ]
  },
  {
   "cell_type": "code",
   "execution_count": 3,
   "metadata": {},
   "outputs": [],
   "source": [
    "df = pd.read_csv('../CSVs/train.csv')\n",
    "img_name_list = df['id'].tolist()"
   ]
  },
  {
   "cell_type": "code",
   "execution_count": 4,
   "metadata": {},
   "outputs": [
    {
     "data": {
      "text/html": [
       "<div>\n",
       "<style scoped>\n",
       "    .dataframe tbody tr th:only-of-type {\n",
       "        vertical-align: middle;\n",
       "    }\n",
       "\n",
       "    .dataframe tbody tr th {\n",
       "        vertical-align: top;\n",
       "    }\n",
       "\n",
       "    .dataframe thead th {\n",
       "        text-align: right;\n",
       "    }\n",
       "</style>\n",
       "<table border=\"1\" class=\"dataframe\">\n",
       "  <thead>\n",
       "    <tr style=\"text-align: right;\">\n",
       "      <th></th>\n",
       "      <th>id</th>\n",
       "      <th>encoding</th>\n",
       "    </tr>\n",
       "  </thead>\n",
       "  <tbody>\n",
       "    <tr>\n",
       "      <th>0</th>\n",
       "      <td>2f6ecfcdf</td>\n",
       "      <td>296084587 4 296115835 6 296115859 14 296147109...</td>\n",
       "    </tr>\n",
       "    <tr>\n",
       "      <th>1</th>\n",
       "      <td>aaa6a05cc</td>\n",
       "      <td>30989109 59 31007591 64 31026074 68 31044556 7...</td>\n",
       "    </tr>\n",
       "    <tr>\n",
       "      <th>2</th>\n",
       "      <td>cb2d976f4</td>\n",
       "      <td>78144363 5 78179297 15 78214231 25 78249165 35...</td>\n",
       "    </tr>\n",
       "    <tr>\n",
       "      <th>3</th>\n",
       "      <td>0486052bb</td>\n",
       "      <td>101676003 6 101701785 8 101727568 9 101753351 ...</td>\n",
       "    </tr>\n",
       "    <tr>\n",
       "      <th>4</th>\n",
       "      <td>e79de561c</td>\n",
       "      <td>7464094 14 7480273 41 7496453 67 7512632 82 75...</td>\n",
       "    </tr>\n",
       "  </tbody>\n",
       "</table>\n",
       "</div>"
      ],
      "text/plain": [
       "          id                                           encoding\n",
       "0  2f6ecfcdf  296084587 4 296115835 6 296115859 14 296147109...\n",
       "1  aaa6a05cc  30989109 59 31007591 64 31026074 68 31044556 7...\n",
       "2  cb2d976f4  78144363 5 78179297 15 78214231 25 78249165 35...\n",
       "3  0486052bb  101676003 6 101701785 8 101727568 9 101753351 ...\n",
       "4  e79de561c  7464094 14 7480273 41 7496453 67 7512632 82 75..."
      ]
     },
     "execution_count": 4,
     "metadata": {},
     "output_type": "execute_result"
    }
   ],
   "source": [
    "df.head()"
   ]
  },
  {
   "cell_type": "markdown",
   "metadata": {},
   "source": [
    "### Make some folders for organization purposes:"
   ]
  },
  {
   "cell_type": "code",
   "execution_count": 5,
   "metadata": {},
   "outputs": [],
   "source": [
    "# folder for our grey images\n",
    "try:\n",
    "    os.mkdir('../train/images/grey')\n",
    "except FileExistsError:\n",
    "    pass"
   ]
  },
  {
   "cell_type": "code",
   "execution_count": 6,
   "metadata": {},
   "outputs": [],
   "source": [
    "# folder for our slices\n",
    "try:\n",
    "    os.mkdir('../train/images/slices')\n",
    "except FileExistsError:\n",
    "    pass"
   ]
  },
  {
   "cell_type": "code",
   "execution_count": 7,
   "metadata": {},
   "outputs": [],
   "source": [
    "# folder for our mask images\n",
    "try:\n",
    "    os.mkdir('../train/masks')\n",
    "except FileExistsError:\n",
    "    pass"
   ]
  },
  {
   "cell_type": "code",
   "execution_count": 8,
   "metadata": {},
   "outputs": [],
   "source": [
    "# folder for our mask images\n",
    "try:\n",
    "    os.mkdir('../train/masks/slices')\n",
    "except FileExistsError:\n",
    "    pass"
   ]
  },
  {
   "cell_type": "code",
   "execution_count": 9,
   "metadata": {},
   "outputs": [],
   "source": [
    "# folder for our test slices\n",
    "try:\n",
    "    os.mkdir('../test/images/slices')\n",
    "except FileExistsError:\n",
    "    pass"
   ]
  },
  {
   "cell_type": "code",
   "execution_count": 10,
   "metadata": {},
   "outputs": [],
   "source": [
    "# folder for our test grey images\n",
    "try:\n",
    "    os.mkdir('../test/images/grey')\n",
    "except FileExistsError:\n",
    "    pass"
   ]
  },
  {
   "cell_type": "markdown",
   "metadata": {},
   "source": [
    "## Functions"
   ]
  },
  {
   "cell_type": "code",
   "execution_count": 11,
   "metadata": {},
   "outputs": [],
   "source": [
    "# The source for this function: \n",
    "# https://www.kaggle.com/paulorzp/rle-functions-run-lenght-encode-decode\n",
    "# edited to suit my notebook\n",
    "\n",
    "def rle2mask(img_id):\n",
    "    '''\n",
    "    img_id: the id number of image\n",
    "    mask_rle: run-length as string formated (start length)\n",
    "    shape: (width,height) of array to return \n",
    "    Returns numpy array, 1 - mask, 0 - background\n",
    "    '''\n",
    "    path = os.path.join(img_path, img_id+'.tiff')\n",
    "    image = tiff.imread(path)\n",
    "    mask_rle = df[df['id'] == img_id]['encoding'].values[0]\n",
    "    \n",
    "    if len(image.shape) == 5:\n",
    "            image = image.squeeze().transpose(1, 2, 0)\n",
    "    \n",
    "    shape=(image.shape[1],image.shape[0])\n",
    "    \n",
    "    s = mask_rle.split()\n",
    "    starts, lengths = [np.asarray(x, dtype=int) for x in (s[0:][::2], s[1:][::2])]\n",
    "    starts -= 1\n",
    "    ends = starts + lengths\n",
    "    img = np.zeros(shape[0]*shape[1], dtype=np.uint8)\n",
    "    \n",
    "    for lo, hi in zip(starts, ends):\n",
    "        img[lo:hi] = 1\n",
    "    return img.reshape(shape).T"
   ]
  },
  {
   "cell_type": "code",
   "execution_count": 12,
   "metadata": {},
   "outputs": [],
   "source": [
    "# This function takes image id and scale percentage (eg: 0.5) \n",
    "# and returns the image resized by the scale percentage\n",
    "\n",
    "def resize_img(img_id, scale_percent):\n",
    "        path = os.path.join(img_path, img_id+'.tiff')\n",
    "        image = tiff.imread(path)\n",
    "        if len(image.shape) == 5:\n",
    "            image = image.squeeze().transpose(1, 2, 0)\n",
    "        \n",
    "        width = int(image.shape[1] * scale_percent)\n",
    "        height = int(image.shape[0] * scale_percent)\n",
    "        dimensions = (width, height)\n",
    "        \n",
    "        resized = cv2.resize(image, dimensions)\n",
    "        return resized"
   ]
  },
  {
   "cell_type": "code",
   "execution_count": 13,
   "metadata": {},
   "outputs": [],
   "source": [
    "# This function takes mask id and scale percentage (eg: 0.5) \n",
    "# and returns the mask resized by the scale percentage\n",
    "\n",
    "def resize_masks(image_id, scale):\n",
    "    maskpath = os.path.join(mask_path, name + '_mask.tiff')\n",
    "    mask = tiff.imread(maskpath)\n",
    "    fullpath = os.path.join(img_path, name + '_small.tiff')\n",
    "    image = tiff.imread(fullpath)\n",
    "    \n",
    "    width = int(mask.shape[1] * scale)\n",
    "    height = int(mask.shape[0] * scale)\n",
    "    dimensions = (width, height)\n",
    "    resized = cv2.resize(mask, dimensions)\n",
    "    return resized"
   ]
  },
  {
   "cell_type": "code",
   "execution_count": 14,
   "metadata": {},
   "outputs": [],
   "source": [
    "# This function turns images grey\n",
    "\n",
    "def to_grey(img_id):\n",
    "    path = os.path.join(img_path, img_id + '.tiff')\n",
    "    image = tiff.imread(path)\n",
    "    weights = [0.2989, 0.5870, 0.1140]\n",
    "    grey_img = np.dot(image, weights)\n",
    "    return grey_img"
   ]
  },
  {
   "cell_type": "code",
   "execution_count": 15,
   "metadata": {},
   "outputs": [],
   "source": [
    "# reference: https://stackoverflow.com/questions/53755910/how-can-i-split-a-large-image-into-small-pieces-in-python\n",
    "\n",
    "def slice_grey(image_id):\n",
    "    fullpath = os.path.join(img_path + 'grey', image_id + '.tiff')\n",
    "    image = tiff.imread(fullpath)\n",
    "    real_id = image_id[:-11]\n",
    "    \n",
    "    for r in range(0, image.shape[0], int(image.shape[0]/32)):\n",
    "        for c in range(0, image.shape[1], int(image.shape[1]/32)):\n",
    "            cv2.imwrite(f\"../train/images/slices/{real_id}_{r}_{c}.tiff\", \n",
    "                        image[r:r+ int(image.shape[0]/32), c:c+ int(image.shape[1]/32)])\n",
    "        \n",
    "    print(f'{image_id} has been sliced')"
   ]
  },
  {
   "cell_type": "code",
   "execution_count": 16,
   "metadata": {},
   "outputs": [],
   "source": [
    "def slice_masks(image_id):\n",
    "    path = os.path.join(mask_path, image_id + '.tiff')\n",
    "    image = tiff.imread(path)\n",
    "    real_id = image_id[:-11]\n",
    "    \n",
    "    for r in range(0, image.shape[0], int(image.shape[0]/32)):\n",
    "        for c in range(0, image.shape[1], int(image.shape[1]/32)):\n",
    "            cv2.imwrite(f\"../train/masks/slices/{real_id}_{r}_{c}.tiff\", \n",
    "                        image[r:r+ int(image.shape[0]/32), c:c+ int(image.shape[1]/32)])\n",
    "            \n",
    "    print(f'{image_id} has been sliced')"
   ]
  },
  {
   "cell_type": "markdown",
   "metadata": {},
   "source": [
    "### Take the RLE masks, turn it into an image, save the image"
   ]
  },
  {
   "cell_type": "code",
   "execution_count": 17,
   "metadata": {},
   "outputs": [
    {
     "name": "stdout",
     "output_type": "stream",
     "text": [
      "2f6ecfcdf mask has been created\n",
      "aaa6a05cc mask has been created\n",
      "cb2d976f4 mask has been created\n",
      "0486052bb mask has been created\n",
      "e79de561c mask has been created\n",
      "095bf7a1f mask has been created\n",
      "54f2eec69 mask has been created\n",
      "1e2425f28 mask has been created\n"
     ]
    }
   ],
   "source": [
    "for names in img_name_list:\n",
    "    mask = rle2mask(names)\n",
    "    mask_img = Image.fromarray(mask*255)\n",
    "    fullpath = os.path.join(mask_path, names + '_mask.tiff')\n",
    "    mask_img.save(fullpath)\n",
    "    \n",
    "    print(f'{names} mask has been created')"
   ]
  },
  {
   "cell_type": "markdown",
   "metadata": {},
   "source": [
    "### Resizing the images for training:\n",
    "The original images were too big for my computer to train on, so I need to make them smaller"
   ]
  },
  {
   "cell_type": "code",
   "execution_count": 18,
   "metadata": {},
   "outputs": [
    {
     "name": "stdout",
     "output_type": "stream",
     "text": [
      "2f6ecfcdf resized has been created\n",
      "aaa6a05cc resized has been created\n",
      "cb2d976f4 resized has been created\n",
      "0486052bb resized has been created\n",
      "e79de561c resized has been created\n",
      "095bf7a1f resized has been created\n",
      "54f2eec69 resized has been created\n",
      "1e2425f28 resized has been created\n",
      "Wall time: 2min 41s\n"
     ]
    }
   ],
   "source": [
    "%%time\n",
    "for names in img_name_list:\n",
    "    smaller = resize_img(names, 0.5)\n",
    "    fullpath = os.path.join(img_path, names + '_small.tiff')\n",
    "    cv2.imwrite(fullpath,smaller)    \n",
    "    print(f'{names} resized has been created')"
   ]
  },
  {
   "cell_type": "markdown",
   "metadata": {},
   "source": [
    "### Resize the mask images so that they fit the smaller images"
   ]
  },
  {
   "cell_type": "code",
   "execution_count": 19,
   "metadata": {},
   "outputs": [
    {
     "name": "stdout",
     "output_type": "stream",
     "text": [
      "2f6ecfcdf resized mask has been created\n",
      "aaa6a05cc resized mask has been created\n",
      "cb2d976f4 resized mask has been created\n",
      "0486052bb resized mask has been created\n",
      "e79de561c resized mask has been created\n",
      "095bf7a1f resized mask has been created\n",
      "54f2eec69 resized mask has been created\n",
      "1e2425f28 resized mask has been created\n",
      "Wall time: 55.5 s\n"
     ]
    }
   ],
   "source": [
    "%%time\n",
    "for name in img_name_list:\n",
    "    small = resize_masks(name, 0.5)\n",
    "    path = os.path.join('../train/masks', name + '_mask_small.tiff')\n",
    "    cv2.imwrite(path, small)\n",
    "    print(f'{name} resized mask has been created')"
   ]
  },
  {
   "cell_type": "markdown",
   "metadata": {},
   "source": [
    "### Make images greyscale to make them even smaller in filesize"
   ]
  },
  {
   "cell_type": "code",
   "execution_count": 20,
   "metadata": {},
   "outputs": [
    {
     "data": {
      "text/plain": [
       "['2f6ecfcdf_small',\n",
       " 'aaa6a05cc_small',\n",
       " 'cb2d976f4_small',\n",
       " '0486052bb_small',\n",
       " 'e79de561c_small',\n",
       " '095bf7a1f_small',\n",
       " '54f2eec69_small',\n",
       " '1e2425f28_small']"
      ]
     },
     "execution_count": 20,
     "metadata": {},
     "output_type": "execute_result"
    }
   ],
   "source": [
    "small_names = [i + '_small' for i in img_name_list]\n",
    "small_names"
   ]
  },
  {
   "cell_type": "code",
   "execution_count": 21,
   "metadata": {},
   "outputs": [
    {
     "name": "stdout",
     "output_type": "stream",
     "text": [
      "2f6ecfcdf_small is grey now\n",
      "aaa6a05cc_small is grey now\n",
      "cb2d976f4_small is grey now\n",
      "0486052bb_small is grey now\n",
      "e79de561c_small is grey now\n",
      "095bf7a1f_small is grey now\n",
      "54f2eec69_small is grey now\n",
      "1e2425f28_small is grey now\n"
     ]
    }
   ],
   "source": [
    "for name in small_names:\n",
    "    grey = to_grey(name)\n",
    "    grey_path = os.path.join(img_path + 'grey', name +'_grey.tiff')\n",
    "    cv2.imwrite(grey_path, grey)    \n",
    "    \n",
    "    print(f'{name} is grey now')"
   ]
  },
  {
   "cell_type": "markdown",
   "metadata": {},
   "source": [
    "### Split each image into smaller tiles"
   ]
  },
  {
   "cell_type": "code",
   "execution_count": 22,
   "metadata": {},
   "outputs": [],
   "source": [
    "grey_names = [i+'_small_grey' for i in img_name_list]"
   ]
  },
  {
   "cell_type": "code",
   "execution_count": 23,
   "metadata": {
    "scrolled": true
   },
   "outputs": [
    {
     "name": "stdout",
     "output_type": "stream",
     "text": [
      "2f6ecfcdf_small_grey has been sliced\n",
      "aaa6a05cc_small_grey has been sliced\n",
      "cb2d976f4_small_grey has been sliced\n",
      "0486052bb_small_grey has been sliced\n",
      "e79de561c_small_grey has been sliced\n",
      "095bf7a1f_small_grey has been sliced\n",
      "54f2eec69_small_grey has been sliced\n",
      "1e2425f28_small_grey has been sliced\n"
     ]
    }
   ],
   "source": [
    "for name in grey_names:\n",
    "    slice_grey(name)"
   ]
  },
  {
   "cell_type": "markdown",
   "metadata": {},
   "source": [
    "### Now I need to slice the masks into the same squares"
   ]
  },
  {
   "cell_type": "code",
   "execution_count": 24,
   "metadata": {},
   "outputs": [],
   "source": [
    "mask_name = [i+'_mask_small' for i in img_name_list]"
   ]
  },
  {
   "cell_type": "code",
   "execution_count": 25,
   "metadata": {},
   "outputs": [
    {
     "name": "stdout",
     "output_type": "stream",
     "text": [
      "2f6ecfcdf_mask_small has been sliced\n",
      "aaa6a05cc_mask_small has been sliced\n",
      "cb2d976f4_mask_small has been sliced\n",
      "0486052bb_mask_small has been sliced\n",
      "e79de561c_mask_small has been sliced\n",
      "095bf7a1f_mask_small has been sliced\n",
      "54f2eec69_mask_small has been sliced\n",
      "1e2425f28_mask_small has been sliced\n"
     ]
    }
   ],
   "source": [
    "for name in mask_name:\n",
    "    slice_masks(name)"
   ]
  },
  {
   "cell_type": "markdown",
   "metadata": {},
   "source": [
    "### Not all slices are useful. I only want to keep the slices that contain masks:"
   ]
  },
  {
   "cell_type": "code",
   "execution_count": 26,
   "metadata": {},
   "outputs": [],
   "source": [
    "mask_slices = os.listdir('../train/masks/slices')"
   ]
  },
  {
   "cell_type": "code",
   "execution_count": 27,
   "metadata": {},
   "outputs": [
    {
     "name": "stdout",
     "output_type": "stream",
     "text": [
      "Wall time: 29.5 s\n"
     ]
    }
   ],
   "source": [
    "%%time\n",
    "save_list = []\n",
    "delete_list =[]\n",
    "\n",
    "for name in mask_slices:\n",
    "    path = os.path.join('../train/masks/slices', name)\n",
    "    image = tiff.imread(path)\n",
    "    if 255 in image:\n",
    "        save_list.append(name)\n",
    "    else:\n",
    "        delete_list.append(name)"
   ]
  },
  {
   "cell_type": "code",
   "execution_count": 28,
   "metadata": {},
   "outputs": [
    {
     "data": {
      "text/plain": [
       "[]"
      ]
     },
     "execution_count": 28,
     "metadata": {},
     "output_type": "execute_result"
    }
   ],
   "source": [
    "# make sure there's no overlap between the two lists\n",
    "list(set(save_list) & set(delete_list))"
   ]
  },
  {
   "cell_type": "code",
   "execution_count": 29,
   "metadata": {},
   "outputs": [
    {
     "name": "stdout",
     "output_type": "stream",
     "text": [
      "# save: 1797\n",
      "# to be deleted: 6915\n"
     ]
    }
   ],
   "source": [
    "print(f'# save: {len(save_list)}\\n# to be deleted: {len(delete_list)}')"
   ]
  },
  {
   "cell_type": "code",
   "execution_count": 30,
   "metadata": {},
   "outputs": [
    {
     "name": "stdout",
     "output_type": "stream",
     "text": [
      "Wall time: 1.17 s\n"
     ]
    }
   ],
   "source": [
    "%%time\n",
    "\n",
    "# delete unneccessary images in masks slices folder\n",
    "for name in delete_list:\n",
    "    path = os.path.join('../train/masks/slices', name)\n",
    "    if os.path.isfile(path): \n",
    "        os.remove(path)"
   ]
  },
  {
   "cell_type": "code",
   "execution_count": 31,
   "metadata": {
    "scrolled": true
   },
   "outputs": [
    {
     "name": "stdout",
     "output_type": "stream",
     "text": [
      "Wall time: 1.43 s\n"
     ]
    }
   ],
   "source": [
    "%%time\n",
    "\n",
    "# delete unneccessary images from the grey images slices folder\n",
    "for name in delete_list:\n",
    "    path = os.path.join('../train/images/slices', name)\n",
    "    if os.path.isfile(path): \n",
    "        os.remove(path)"
   ]
  },
  {
   "cell_type": "markdown",
   "metadata": {},
   "source": [
    "### Each instance in the masks needs to be a different \"color\"\n",
    "Right now, they're all white. Need to make each instance different. "
   ]
  },
  {
   "cell_type": "code",
   "execution_count": 32,
   "metadata": {},
   "outputs": [],
   "source": [
    "def make_different(image):\n",
    "    path = os.path.join('../train/masks/slices', image)\n",
    "    img = tiff.imread(path)\n",
    "    contours = cv2.findContours(img, cv2.RETR_EXTERNAL, cv2.CHAIN_APPROX_SIMPLE)\n",
    "    contours = imutils.grab_contours(contours)\n",
    "    a = 1\n",
    "    for c in contours:\n",
    "        img = cv2.fillPoly(img, [c], color=(a,1,1))\n",
    "        image = Image.fromarray(img)\n",
    "        image.save(path)\n",
    "        a+=1\n",
    "    return image"
   ]
  },
  {
   "cell_type": "code",
   "execution_count": 33,
   "metadata": {},
   "outputs": [],
   "source": [
    "sliced_masks = os.listdir('../train/masks/slices')"
   ]
  },
  {
   "cell_type": "code",
   "execution_count": 34,
   "metadata": {},
   "outputs": [],
   "source": [
    "for i in sliced_masks:\n",
    "    make_different(i)"
   ]
  },
  {
   "cell_type": "markdown",
   "metadata": {},
   "source": [
    "### Visualize one of the masks:"
   ]
  },
  {
   "cell_type": "code",
   "execution_count": 35,
   "metadata": {},
   "outputs": [
    {
     "data": {
      "image/png": "[encoded data removed]",
      "text/plain": [
       "<PIL.Image.Image image mode=L size=503x418 at 0x1CA36A6D9A0>"
      ]
     },
     "execution_count": 35,
     "metadata": {},
     "output_type": "execute_result"
    }
   ],
   "source": [
    "# This is what it looks like without a filter\n",
    "mask = tiff.imread('../train/masks/slices/1e2425f28_4598_3521.tiff')\n",
    "image = Image.fromarray(mask)\n",
    "image"
   ]
  },
  {
   "cell_type": "code",
   "execution_count": 36,
   "metadata": {},
   "outputs": [],
   "source": [
    "# This filter will help us see the masks:\n",
    "\n",
    "image.putpalette([\n",
    "    0, 0, 0, # black background\n",
    "    255, 0, 0, # index 1 is red\n",
    "    255, 255, 0, # index 2 is yellow\n",
    "    255, 192, 203, # index 3 is pink\n",
    "])"
   ]
  },
  {
   "cell_type": "code",
   "execution_count": 37,
   "metadata": {},
   "outputs": [
    {
     "data": {
      "image/png": "[encoded data removed]",
      "text/plain": [
       "<PIL.Image.Image image mode=P size=503x418 at 0x1CA36A6D9A0>"
      ]
     },
     "execution_count": 37,
     "metadata": {},
     "output_type": "execute_result"
    }
   ],
   "source": [
    "image"
   ]
  },
  {
   "cell_type": "markdown",
   "metadata": {},
   "source": [
    "### Make new csv with the width, height, xmin, ymin, xmax, ymax from all the tiles"
   ]
  },
  {
   "cell_type": "code",
   "execution_count": 38,
   "metadata": {},
   "outputs": [],
   "source": [
    "save_list = os.listdir('../train/masks/slices')"
   ]
  },
  {
   "cell_type": "code",
   "execution_count": 39,
   "metadata": {},
   "outputs": [
    {
     "data": {
      "text/plain": [
       "['0486052bb_10050_3815.tiff',\n",
       " '0486052bb_10050_4360.tiff',\n",
       " '0486052bb_10050_4905.tiff',\n",
       " '0486052bb_10050_5450.tiff',\n",
       " '0486052bb_10050_5995.tiff',\n",
       " '0486052bb_10050_6540.tiff',\n",
       " '0486052bb_10452_3270.tiff',\n",
       " '0486052bb_10452_3815.tiff',\n",
       " '0486052bb_10452_4360.tiff',\n",
       " '0486052bb_10452_5450.tiff',\n",
       " '0486052bb_10854_4360.tiff',\n",
       " '0486052bb_10854_4905.tiff',\n",
       " '0486052bb_10854_5450.tiff',\n",
       " '0486052bb_11256_4360.tiff',\n",
       " '0486052bb_1206_10355.tiff',\n",
       " '0486052bb_1206_10900.tiff',\n",
       " '0486052bb_1206_11445.tiff',\n",
       " '0486052bb_1206_11990.tiff',\n",
       " '0486052bb_1206_12535.tiff',\n",
       " '0486052bb_1206_13625.tiff',\n",
       " '0486052bb_1206_14170.tiff',\n",
       " '0486052bb_1206_15260.tiff',\n",
       " '0486052bb_1206_4360.tiff',\n",
       " '0486052bb_1206_4905.tiff',\n",
       " '0486052bb_1206_5450.tiff',\n",
       " '0486052bb_1206_6540.tiff',\n",
       " '0486052bb_1206_7085.tiff',\n",
       " '0486052bb_1206_7630.tiff',\n",
       " '0486052bb_1206_8175.tiff',\n",
       " '0486052bb_1206_8720.tiff',\n",
       " '0486052bb_1206_9265.tiff',\n",
       " '0486052bb_1206_9810.tiff',\n",
       " '0486052bb_1608_10355.tiff',\n",
       " '0486052bb_1608_10900.tiff',\n",
       " '0486052bb_1608_11445.tiff',\n",
       " '0486052bb_1608_11990.tiff',\n",
       " '0486052bb_1608_13080.tiff',\n",
       " '0486052bb_1608_13625.tiff',\n",
       " '0486052bb_1608_14170.tiff',\n",
       " '0486052bb_1608_14715.tiff',\n",
       " '0486052bb_1608_15260.tiff',\n",
       " '0486052bb_1608_4360.tiff',\n",
       " '0486052bb_1608_4905.tiff',\n",
       " '0486052bb_1608_6540.tiff',\n",
       " '0486052bb_1608_8175.tiff',\n",
       " '0486052bb_1608_8720.tiff',\n",
       " '0486052bb_1608_9265.tiff',\n",
       " '0486052bb_1608_9810.tiff',\n",
       " '0486052bb_2010_10355.tiff',\n",
       " '0486052bb_2010_10900.tiff',\n",
       " '0486052bb_2010_11445.tiff',\n",
       " '0486052bb_2010_11990.tiff',\n",
       " '0486052bb_2010_13625.tiff',\n",
       " '0486052bb_2010_14715.tiff',\n",
       " '0486052bb_2010_15805.tiff',\n",
       " '0486052bb_2010_4905.tiff',\n",
       " '0486052bb_2010_7085.tiff',\n",
       " '0486052bb_2010_7630.tiff',\n",
       " '0486052bb_2010_8175.tiff',\n",
       " '0486052bb_2412_10355.tiff',\n",
       " '0486052bb_2412_12535.tiff',\n",
       " '0486052bb_2412_13625.tiff',\n",
       " '0486052bb_2412_14170.tiff',\n",
       " '0486052bb_2412_4905.tiff',\n",
       " '0486052bb_2412_5995.tiff',\n",
       " '0486052bb_2412_7085.tiff',\n",
       " '0486052bb_2814_3815.tiff',\n",
       " '0486052bb_2814_4905.tiff',\n",
       " '0486052bb_2814_5450.tiff',\n",
       " '0486052bb_2814_5995.tiff',\n",
       " '0486052bb_2814_6540.tiff',\n",
       " '0486052bb_2814_7085.tiff',\n",
       " '0486052bb_3216_2725.tiff',\n",
       " '0486052bb_3216_3270.tiff',\n",
       " '0486052bb_3216_3815.tiff',\n",
       " '0486052bb_3216_4905.tiff',\n",
       " '0486052bb_3216_5450.tiff',\n",
       " '0486052bb_3216_5995.tiff',\n",
       " '0486052bb_3216_6540.tiff',\n",
       " '0486052bb_3618_3270.tiff',\n",
       " '0486052bb_3618_4905.tiff',\n",
       " '0486052bb_4020_3270.tiff',\n",
       " '0486052bb_4020_4905.tiff',\n",
       " '0486052bb_4422_1635.tiff',\n",
       " '0486052bb_4422_2180.tiff',\n",
       " '0486052bb_4422_3270.tiff',\n",
       " '0486052bb_4824_1635.tiff',\n",
       " '0486052bb_4824_2180.tiff',\n",
       " '0486052bb_4824_3815.tiff',\n",
       " '0486052bb_4824_4360.tiff',\n",
       " '0486052bb_4824_4905.tiff',\n",
       " '0486052bb_4824_5450.tiff',\n",
       " '0486052bb_5226_2725.tiff',\n",
       " '0486052bb_5226_3270.tiff',\n",
       " '0486052bb_5226_3815.tiff',\n",
       " '0486052bb_5226_4905.tiff',\n",
       " '0486052bb_5226_5450.tiff',\n",
       " '0486052bb_5628_2725.tiff',\n",
       " '0486052bb_5628_3270.tiff',\n",
       " '0486052bb_5628_3815.tiff',\n",
       " '0486052bb_5628_4360.tiff',\n",
       " '0486052bb_5628_4905.tiff',\n",
       " '0486052bb_5628_5450.tiff',\n",
       " '0486052bb_6030_2725.tiff',\n",
       " '0486052bb_6030_3270.tiff',\n",
       " '0486052bb_6030_3815.tiff',\n",
       " '0486052bb_6030_4905.tiff',\n",
       " '0486052bb_6030_5450.tiff',\n",
       " '0486052bb_6432_2725.tiff',\n",
       " '0486052bb_6432_3270.tiff',\n",
       " '0486052bb_6834_2725.tiff',\n",
       " '0486052bb_6834_3270.tiff',\n",
       " '0486052bb_7236_2725.tiff',\n",
       " '0486052bb_7638_3815.tiff',\n",
       " '0486052bb_8040_3815.tiff',\n",
       " '0486052bb_8040_4360.tiff',\n",
       " '0486052bb_8040_4905.tiff',\n",
       " '0486052bb_804_11445.tiff',\n",
       " '0486052bb_804_4905.tiff',\n",
       " '0486052bb_804_5450.tiff',\n",
       " '0486052bb_804_7085.tiff',\n",
       " '0486052bb_804_7630.tiff',\n",
       " '0486052bb_804_8175.tiff',\n",
       " '0486052bb_804_8720.tiff',\n",
       " '0486052bb_804_9265.tiff',\n",
       " '0486052bb_8442_2725.tiff',\n",
       " '0486052bb_8442_3270.tiff',\n",
       " '0486052bb_8442_4360.tiff',\n",
       " '0486052bb_8442_4905.tiff',\n",
       " '0486052bb_8844_3815.tiff',\n",
       " '0486052bb_8844_4360.tiff',\n",
       " '0486052bb_9246_3815.tiff',\n",
       " '0486052bb_9246_4905.tiff',\n",
       " '0486052bb_9246_5450.tiff',\n",
       " '0486052bb_9648_3815.tiff',\n",
       " '0486052bb_9648_4905.tiff',\n",
       " '0486052bb_9648_5450.tiff',\n",
       " '0486052bb_9648_5995.tiff',\n",
       " '0486052bb_9648_6540.tiff',\n",
       " '095bf7a1f_10132_10353.tiff',\n",
       " '095bf7a1f_10132_11571.tiff',\n",
       " '095bf7a1f_10132_1218.tiff',\n",
       " '095bf7a1f_10132_12180.tiff',\n",
       " '095bf7a1f_10132_13398.tiff',\n",
       " '095bf7a1f_10132_1827.tiff',\n",
       " '095bf7a1f_10132_2436.tiff',\n",
       " '095bf7a1f_10132_3045.tiff',\n",
       " '095bf7a1f_10132_3654.tiff',\n",
       " '095bf7a1f_10132_4263.tiff',\n",
       " '095bf7a1f_10132_4872.tiff',\n",
       " '095bf7a1f_10132_5481.tiff',\n",
       " '095bf7a1f_10132_6090.tiff',\n",
       " '095bf7a1f_10132_6699.tiff',\n",
       " '095bf7a1f_10132_7308.tiff',\n",
       " '095bf7a1f_10132_7917.tiff',\n",
       " '095bf7a1f_10132_8526.tiff',\n",
       " '095bf7a1f_10132_9135.tiff',\n",
       " '095bf7a1f_10132_9744.tiff',\n",
       " '095bf7a1f_10728_10353.tiff',\n",
       " '095bf7a1f_10728_10962.tiff',\n",
       " '095bf7a1f_10728_11571.tiff',\n",
       " '095bf7a1f_10728_1218.tiff',\n",
       " '095bf7a1f_10728_12789.tiff',\n",
       " '095bf7a1f_10728_13398.tiff',\n",
       " '095bf7a1f_10728_1827.tiff',\n",
       " '095bf7a1f_10728_2436.tiff',\n",
       " '095bf7a1f_10728_3045.tiff',\n",
       " '095bf7a1f_10728_3654.tiff',\n",
       " '095bf7a1f_10728_4263.tiff',\n",
       " '095bf7a1f_10728_4872.tiff',\n",
       " '095bf7a1f_10728_6090.tiff',\n",
       " '095bf7a1f_10728_6699.tiff',\n",
       " '095bf7a1f_10728_7917.tiff',\n",
       " '095bf7a1f_10728_8526.tiff',\n",
       " '095bf7a1f_10728_9135.tiff',\n",
       " '095bf7a1f_10728_9744.tiff',\n",
       " '095bf7a1f_11324_10353.tiff',\n",
       " '095bf7a1f_11324_10962.tiff',\n",
       " '095bf7a1f_11324_11571.tiff',\n",
       " '095bf7a1f_11324_12180.tiff',\n",
       " '095bf7a1f_11324_12789.tiff',\n",
       " '095bf7a1f_11324_13398.tiff',\n",
       " '095bf7a1f_11324_14007.tiff',\n",
       " '095bf7a1f_11324_14616.tiff',\n",
       " '095bf7a1f_11324_1827.tiff',\n",
       " '095bf7a1f_11324_2436.tiff',\n",
       " '095bf7a1f_11324_3045.tiff',\n",
       " '095bf7a1f_11324_3654.tiff',\n",
       " '095bf7a1f_11324_4263.tiff',\n",
       " '095bf7a1f_11324_4872.tiff',\n",
       " '095bf7a1f_11324_5481.tiff',\n",
       " '095bf7a1f_11324_6090.tiff',\n",
       " '095bf7a1f_11324_7917.tiff',\n",
       " '095bf7a1f_11324_8526.tiff',\n",
       " '095bf7a1f_11324_9135.tiff',\n",
       " '095bf7a1f_11324_9744.tiff',\n",
       " '095bf7a1f_11920_10353.tiff',\n",
       " '095bf7a1f_11920_10962.tiff',\n",
       " '095bf7a1f_11920_11571.tiff',\n",
       " '095bf7a1f_11920_12180.tiff',\n",
       " '095bf7a1f_11920_14007.tiff',\n",
       " '095bf7a1f_11920_14616.tiff',\n",
       " '095bf7a1f_11920_1827.tiff',\n",
       " '095bf7a1f_11920_2436.tiff',\n",
       " '095bf7a1f_11920_3045.tiff',\n",
       " '095bf7a1f_11920_3654.tiff',\n",
       " '095bf7a1f_11920_4263.tiff',\n",
       " '095bf7a1f_11920_4872.tiff',\n",
       " '095bf7a1f_11920_5481.tiff',\n",
       " '095bf7a1f_11920_6090.tiff',\n",
       " '095bf7a1f_11920_6699.tiff',\n",
       " '095bf7a1f_11920_7308.tiff',\n",
       " '095bf7a1f_11920_7917.tiff',\n",
       " '095bf7a1f_11920_8526.tiff',\n",
       " '095bf7a1f_11920_9135.tiff',\n",
       " '095bf7a1f_11920_9744.tiff',\n",
       " '095bf7a1f_12516_10353.tiff',\n",
       " '095bf7a1f_12516_10962.tiff',\n",
       " '095bf7a1f_12516_11571.tiff',\n",
       " '095bf7a1f_12516_12180.tiff',\n",
       " '095bf7a1f_12516_12789.tiff',\n",
       " '095bf7a1f_12516_14007.tiff',\n",
       " '095bf7a1f_12516_14616.tiff',\n",
       " '095bf7a1f_12516_1827.tiff',\n",
       " '095bf7a1f_12516_3045.tiff',\n",
       " '095bf7a1f_12516_3654.tiff',\n",
       " '095bf7a1f_12516_4263.tiff',\n",
       " '095bf7a1f_12516_4872.tiff',\n",
       " '095bf7a1f_12516_5481.tiff',\n",
       " '095bf7a1f_12516_6090.tiff',\n",
       " '095bf7a1f_12516_6699.tiff',\n",
       " '095bf7a1f_12516_7308.tiff',\n",
       " '095bf7a1f_12516_7917.tiff',\n",
       " '095bf7a1f_12516_8526.tiff',\n",
       " '095bf7a1f_12516_9135.tiff',\n",
       " '095bf7a1f_12516_9744.tiff',\n",
       " '095bf7a1f_13112_10353.tiff',\n",
       " '095bf7a1f_13112_10962.tiff',\n",
       " '095bf7a1f_13112_11571.tiff',\n",
       " '095bf7a1f_13112_12180.tiff',\n",
       " '095bf7a1f_13112_12789.tiff',\n",
       " '095bf7a1f_13112_14007.tiff',\n",
       " '095bf7a1f_13112_14616.tiff',\n",
       " '095bf7a1f_13112_1827.tiff',\n",
       " '095bf7a1f_13112_2436.tiff',\n",
       " '095bf7a1f_13112_3045.tiff',\n",
       " '095bf7a1f_13112_3654.tiff',\n",
       " '095bf7a1f_13112_4263.tiff',\n",
       " '095bf7a1f_13112_4872.tiff',\n",
       " '095bf7a1f_13112_5481.tiff',\n",
       " '095bf7a1f_13112_6090.tiff',\n",
       " '095bf7a1f_13112_6699.tiff',\n",
       " '095bf7a1f_13112_7308.tiff',\n",
       " '095bf7a1f_13112_7917.tiff',\n",
       " '095bf7a1f_13112_8526.tiff',\n",
       " '095bf7a1f_13112_9135.tiff',\n",
       " '095bf7a1f_13112_9744.tiff',\n",
       " '095bf7a1f_13708_10353.tiff',\n",
       " '095bf7a1f_13708_10962.tiff',\n",
       " '095bf7a1f_13708_12180.tiff',\n",
       " '095bf7a1f_13708_12789.tiff',\n",
       " '095bf7a1f_13708_13398.tiff',\n",
       " '095bf7a1f_13708_14007.tiff',\n",
       " '095bf7a1f_13708_14616.tiff',\n",
       " '095bf7a1f_13708_2436.tiff',\n",
       " '095bf7a1f_13708_4263.tiff',\n",
       " '095bf7a1f_13708_5481.tiff',\n",
       " '095bf7a1f_13708_6090.tiff',\n",
       " '095bf7a1f_13708_6699.tiff',\n",
       " '095bf7a1f_13708_7917.tiff',\n",
       " '095bf7a1f_13708_8526.tiff',\n",
       " '095bf7a1f_13708_9135.tiff',\n",
       " '095bf7a1f_13708_9744.tiff',\n",
       " '095bf7a1f_14304_10353.tiff',\n",
       " '095bf7a1f_14304_10962.tiff',\n",
       " '095bf7a1f_14304_14007.tiff',\n",
       " '095bf7a1f_14304_14616.tiff',\n",
       " '095bf7a1f_14304_3045.tiff',\n",
       " '095bf7a1f_14304_3654.tiff',\n",
       " '095bf7a1f_14304_4263.tiff',\n",
       " '095bf7a1f_14304_4872.tiff',\n",
       " '095bf7a1f_14304_6090.tiff',\n",
       " '095bf7a1f_14304_6699.tiff',\n",
       " '095bf7a1f_14304_7308.tiff',\n",
       " '095bf7a1f_14304_8526.tiff',\n",
       " '095bf7a1f_14304_9135.tiff',\n",
       " '095bf7a1f_14304_9744.tiff',\n",
       " '095bf7a1f_14900_10353.tiff',\n",
       " '095bf7a1f_14900_10962.tiff',\n",
       " '095bf7a1f_14900_11571.tiff',\n",
       " '095bf7a1f_14900_12180.tiff',\n",
       " '095bf7a1f_14900_12789.tiff',\n",
       " '095bf7a1f_14900_13398.tiff',\n",
       " '095bf7a1f_14900_14007.tiff',\n",
       " '095bf7a1f_14900_14616.tiff',\n",
       " '095bf7a1f_14900_15225.tiff',\n",
       " '095bf7a1f_14900_6699.tiff',\n",
       " '095bf7a1f_14900_7308.tiff',\n",
       " '095bf7a1f_14900_7917.tiff',\n",
       " '095bf7a1f_15496_10353.tiff',\n",
       " '095bf7a1f_15496_10962.tiff',\n",
       " '095bf7a1f_15496_11571.tiff',\n",
       " '095bf7a1f_15496_12180.tiff',\n",
       " '095bf7a1f_15496_12789.tiff',\n",
       " '095bf7a1f_15496_13398.tiff',\n",
       " '095bf7a1f_15496_14007.tiff',\n",
       " '095bf7a1f_15496_14616.tiff',\n",
       " '095bf7a1f_15496_9744.tiff',\n",
       " '095bf7a1f_16092_10353.tiff',\n",
       " '095bf7a1f_16092_11571.tiff',\n",
       " '095bf7a1f_16092_12180.tiff',\n",
       " '095bf7a1f_16092_12789.tiff',\n",
       " '095bf7a1f_16092_13398.tiff',\n",
       " '095bf7a1f_16092_14007.tiff',\n",
       " '095bf7a1f_16092_9744.tiff',\n",
       " '095bf7a1f_16688_12789.tiff',\n",
       " '095bf7a1f_16688_13398.tiff',\n",
       " '095bf7a1f_16688_14007.tiff',\n",
       " '095bf7a1f_16688_14616.tiff',\n",
       " '095bf7a1f_16688_6699.tiff',\n",
       " '095bf7a1f_17284_13398.tiff',\n",
       " '095bf7a1f_17284_14007.tiff',\n",
       " '095bf7a1f_17284_14616.tiff',\n",
       " '095bf7a1f_1788_6699.tiff',\n",
       " '095bf7a1f_1788_7308.tiff',\n",
       " '095bf7a1f_2384_5481.tiff',\n",
       " '095bf7a1f_2384_6090.tiff',\n",
       " '095bf7a1f_2384_6699.tiff',\n",
       " '095bf7a1f_2384_7308.tiff',\n",
       " '095bf7a1f_2384_7917.tiff',\n",
       " '095bf7a1f_2980_4872.tiff',\n",
       " '095bf7a1f_2980_5481.tiff',\n",
       " '095bf7a1f_2980_6090.tiff',\n",
       " '095bf7a1f_2980_6699.tiff',\n",
       " '095bf7a1f_2980_7308.tiff',\n",
       " '095bf7a1f_2980_7917.tiff',\n",
       " '095bf7a1f_2980_8526.tiff',\n",
       " '095bf7a1f_3576_4872.tiff',\n",
       " '095bf7a1f_3576_5481.tiff',\n",
       " '095bf7a1f_3576_6090.tiff',\n",
       " '095bf7a1f_3576_6699.tiff',\n",
       " '095bf7a1f_3576_7308.tiff',\n",
       " '095bf7a1f_3576_7917.tiff',\n",
       " '095bf7a1f_3576_9135.tiff',\n",
       " '095bf7a1f_4172_6090.tiff',\n",
       " '095bf7a1f_4172_7308.tiff',\n",
       " '095bf7a1f_4172_7917.tiff',\n",
       " '095bf7a1f_4768_11571.tiff',\n",
       " '095bf7a1f_4768_3654.tiff',\n",
       " '095bf7a1f_4768_4263.tiff',\n",
       " '095bf7a1f_4768_4872.tiff',\n",
       " '095bf7a1f_4768_5481.tiff',\n",
       " '095bf7a1f_4768_6090.tiff',\n",
       " '095bf7a1f_4768_6699.tiff',\n",
       " '095bf7a1f_4768_7308.tiff',\n",
       " '095bf7a1f_5364_3654.tiff',\n",
       " '095bf7a1f_5364_4263.tiff',\n",
       " '095bf7a1f_5364_4872.tiff',\n",
       " '095bf7a1f_5364_5481.tiff',\n",
       " '095bf7a1f_5364_6090.tiff',\n",
       " '095bf7a1f_5364_6699.tiff',\n",
       " '095bf7a1f_5364_7308.tiff',\n",
       " '095bf7a1f_5364_8526.tiff',\n",
       " '095bf7a1f_5960_3045.tiff',\n",
       " '095bf7a1f_5960_3654.tiff',\n",
       " '095bf7a1f_5960_4263.tiff',\n",
       " '095bf7a1f_5960_6699.tiff',\n",
       " '095bf7a1f_5960_7308.tiff',\n",
       " '095bf7a1f_5960_7917.tiff',\n",
       " '095bf7a1f_6556_10353.tiff',\n",
       " '095bf7a1f_6556_10962.tiff',\n",
       " '095bf7a1f_6556_11571.tiff',\n",
       " '095bf7a1f_6556_3045.tiff',\n",
       " '095bf7a1f_6556_3654.tiff',\n",
       " '095bf7a1f_6556_4263.tiff',\n",
       " '095bf7a1f_6556_4872.tiff',\n",
       " '095bf7a1f_6556_5481.tiff',\n",
       " '095bf7a1f_6556_6090.tiff',\n",
       " '095bf7a1f_6556_6699.tiff',\n",
       " '095bf7a1f_6556_7917.tiff',\n",
       " '095bf7a1f_6556_8526.tiff',\n",
       " '095bf7a1f_6556_9135.tiff',\n",
       " '095bf7a1f_6556_9744.tiff',\n",
       " '095bf7a1f_7152_10353.tiff',\n",
       " '095bf7a1f_7152_11571.tiff',\n",
       " '095bf7a1f_7152_12180.tiff',\n",
       " '095bf7a1f_7152_3045.tiff',\n",
       " '095bf7a1f_7152_3654.tiff',\n",
       " '095bf7a1f_7152_4872.tiff',\n",
       " '095bf7a1f_7152_5481.tiff',\n",
       " '095bf7a1f_7152_6090.tiff',\n",
       " '095bf7a1f_7152_6699.tiff',\n",
       " '095bf7a1f_7152_7308.tiff',\n",
       " '095bf7a1f_7152_8526.tiff',\n",
       " '095bf7a1f_7152_9135.tiff',\n",
       " '095bf7a1f_7152_9744.tiff',\n",
       " '095bf7a1f_7748_10353.tiff',\n",
       " '095bf7a1f_7748_10962.tiff',\n",
       " '095bf7a1f_7748_11571.tiff',\n",
       " '095bf7a1f_7748_12180.tiff',\n",
       " '095bf7a1f_7748_12789.tiff',\n",
       " '095bf7a1f_7748_1827.tiff',\n",
       " '095bf7a1f_7748_2436.tiff',\n",
       " '095bf7a1f_7748_3045.tiff',\n",
       " '095bf7a1f_7748_3654.tiff',\n",
       " '095bf7a1f_7748_4872.tiff',\n",
       " '095bf7a1f_7748_5481.tiff',\n",
       " '095bf7a1f_7748_6090.tiff',\n",
       " '095bf7a1f_7748_6699.tiff',\n",
       " '095bf7a1f_7748_7917.tiff',\n",
       " '095bf7a1f_7748_8526.tiff',\n",
       " '095bf7a1f_7748_9135.tiff',\n",
       " '095bf7a1f_7748_9744.tiff',\n",
       " '095bf7a1f_8344_10353.tiff',\n",
       " '095bf7a1f_8344_10962.tiff',\n",
       " '095bf7a1f_8344_11571.tiff',\n",
       " '095bf7a1f_8344_12180.tiff',\n",
       " '095bf7a1f_8344_12789.tiff',\n",
       " '095bf7a1f_8344_1827.tiff',\n",
       " '095bf7a1f_8344_2436.tiff',\n",
       " '095bf7a1f_8344_3045.tiff',\n",
       " '095bf7a1f_8344_4263.tiff',\n",
       " '095bf7a1f_8344_4872.tiff',\n",
       " '095bf7a1f_8344_5481.tiff',\n",
       " '095bf7a1f_8344_6090.tiff',\n",
       " '095bf7a1f_8344_6699.tiff',\n",
       " '095bf7a1f_8344_7308.tiff',\n",
       " '095bf7a1f_8344_7917.tiff',\n",
       " '095bf7a1f_8344_8526.tiff',\n",
       " '095bf7a1f_8344_9135.tiff',\n",
       " '095bf7a1f_8344_9744.tiff',\n",
       " '095bf7a1f_8940_10353.tiff',\n",
       " '095bf7a1f_8940_10962.tiff',\n",
       " '095bf7a1f_8940_11571.tiff',\n",
       " '095bf7a1f_8940_1218.tiff',\n",
       " '095bf7a1f_8940_12180.tiff',\n",
       " '095bf7a1f_8940_12789.tiff',\n",
       " '095bf7a1f_8940_13398.tiff',\n",
       " '095bf7a1f_8940_1827.tiff',\n",
       " '095bf7a1f_8940_2436.tiff',\n",
       " '095bf7a1f_8940_3045.tiff',\n",
       " '095bf7a1f_8940_4872.tiff',\n",
       " '095bf7a1f_8940_5481.tiff',\n",
       " '095bf7a1f_8940_6090.tiff',\n",
       " '095bf7a1f_8940_6699.tiff',\n",
       " '095bf7a1f_8940_7308.tiff',\n",
       " '095bf7a1f_8940_7917.tiff',\n",
       " '095bf7a1f_8940_9744.tiff',\n",
       " '095bf7a1f_9536_10353.tiff',\n",
       " '095bf7a1f_9536_11571.tiff',\n",
       " '095bf7a1f_9536_1218.tiff',\n",
       " '095bf7a1f_9536_12789.tiff',\n",
       " '095bf7a1f_9536_13398.tiff',\n",
       " '095bf7a1f_9536_1827.tiff',\n",
       " '095bf7a1f_9536_2436.tiff',\n",
       " '095bf7a1f_9536_3045.tiff',\n",
       " '095bf7a1f_9536_3654.tiff',\n",
       " '095bf7a1f_9536_4872.tiff',\n",
       " '095bf7a1f_9536_5481.tiff',\n",
       " '095bf7a1f_9536_6090.tiff',\n",
       " '095bf7a1f_9536_6699.tiff',\n",
       " '095bf7a1f_9536_7308.tiff',\n",
       " '095bf7a1f_9536_7917.tiff',\n",
       " '095bf7a1f_9536_8526.tiff',\n",
       " '095bf7a1f_9536_9135.tiff',\n",
       " '095bf7a1f_9536_9744.tiff',\n",
       " '1e2425f28_10032_10563.tiff',\n",
       " '1e2425f28_10032_11066.tiff',\n",
       " '1e2425f28_10032_11569.tiff',\n",
       " '1e2425f28_10032_12072.tiff',\n",
       " '1e2425f28_10032_13078.tiff',\n",
       " '1e2425f28_10032_13581.tiff',\n",
       " '1e2425f28_10032_14084.tiff',\n",
       " '1e2425f28_10032_14587.tiff',\n",
       " '1e2425f28_10032_2515.tiff',\n",
       " '1e2425f28_10032_3018.tiff',\n",
       " '1e2425f28_10032_3521.tiff',\n",
       " '1e2425f28_10032_5533.tiff',\n",
       " '1e2425f28_10032_6539.tiff',\n",
       " '1e2425f28_10032_7042.tiff',\n",
       " '1e2425f28_10450_10563.tiff',\n",
       " '1e2425f28_10450_11066.tiff',\n",
       " '1e2425f28_10450_11569.tiff',\n",
       " '1e2425f28_10450_12072.tiff',\n",
       " '1e2425f28_10450_12575.tiff',\n",
       " '1e2425f28_10450_14587.tiff',\n",
       " '1e2425f28_10450_15090.tiff',\n",
       " '1e2425f28_10450_2515.tiff',\n",
       " '1e2425f28_10450_3018.tiff',\n",
       " '1e2425f28_10450_3521.tiff',\n",
       " '1e2425f28_10450_6539.tiff',\n",
       " '1e2425f28_10450_7042.tiff',\n",
       " '1e2425f28_10450_7545.tiff',\n",
       " '1e2425f28_10450_8048.tiff',\n",
       " '1e2425f28_10450_8551.tiff',\n",
       " '1e2425f28_10450_9054.tiff',\n",
       " '1e2425f28_10868_10060.tiff',\n",
       " '1e2425f28_10868_10563.tiff',\n",
       " '1e2425f28_10868_11066.tiff',\n",
       " '1e2425f28_10868_11569.tiff',\n",
       " '1e2425f28_10868_12575.tiff',\n",
       " '1e2425f28_10868_13078.tiff',\n",
       " '1e2425f28_10868_13581.tiff',\n",
       " '1e2425f28_10868_14587.tiff',\n",
       " '1e2425f28_10868_15090.tiff',\n",
       " '1e2425f28_10868_7545.tiff',\n",
       " '1e2425f28_10868_8048.tiff',\n",
       " '1e2425f28_10868_8551.tiff',\n",
       " '1e2425f28_11286_10563.tiff',\n",
       " '1e2425f28_11286_11569.tiff',\n",
       " '1e2425f28_11286_14587.tiff',\n",
       " '1e2425f28_11286_15090.tiff',\n",
       " '1e2425f28_12122_13078.tiff',\n",
       " '1e2425f28_12540_15090.tiff',\n",
       " '1e2425f28_4180_13581.tiff',\n",
       " '1e2425f28_4180_14084.tiff',\n",
       " '1e2425f28_4598_12575.tiff',\n",
       " '1e2425f28_4598_13078.tiff',\n",
       " '1e2425f28_4598_13581.tiff',\n",
       " '1e2425f28_4598_14587.tiff',\n",
       " '1e2425f28_4598_3018.tiff',\n",
       " '1e2425f28_4598_3521.tiff',\n",
       " '1e2425f28_4598_5030.tiff',\n",
       " '1e2425f28_4598_5533.tiff',\n",
       " '1e2425f28_5016_13581.tiff',\n",
       " '1e2425f28_5016_2012.tiff',\n",
       " '1e2425f28_5016_3018.tiff',\n",
       " '1e2425f28_5016_3521.tiff',\n",
       " '1e2425f28_5016_5030.tiff',\n",
       " '1e2425f28_5016_5533.tiff',\n",
       " '1e2425f28_5016_6036.tiff',\n",
       " '1e2425f28_5016_6539.tiff',\n",
       " '1e2425f28_5016_7545.tiff',\n",
       " '1e2425f28_5016_8048.tiff',\n",
       " '1e2425f28_5016_8551.tiff',\n",
       " '1e2425f28_5434_11569.tiff',\n",
       " '1e2425f28_5434_12575.tiff',\n",
       " '1e2425f28_5434_13078.tiff',\n",
       " '1e2425f28_5434_14084.tiff',\n",
       " '1e2425f28_5434_14587.tiff',\n",
       " '1e2425f28_5434_1509.tiff',\n",
       " '1e2425f28_5434_15090.tiff',\n",
       " '1e2425f28_5434_2012.tiff',\n",
       " '1e2425f28_5434_3018.tiff',\n",
       " '1e2425f28_5434_4527.tiff',\n",
       " '1e2425f28_5434_5030.tiff',\n",
       " '1e2425f28_5434_5533.tiff',\n",
       " '1e2425f28_5434_6036.tiff',\n",
       " '1e2425f28_5434_7545.tiff',\n",
       " '1e2425f28_5434_8048.tiff',\n",
       " '1e2425f28_5434_8551.tiff',\n",
       " '1e2425f28_5434_9054.tiff',\n",
       " '1e2425f28_5434_9557.tiff',\n",
       " '1e2425f28_5852_11569.tiff',\n",
       " '1e2425f28_5852_13078.tiff',\n",
       " '1e2425f28_5852_14084.tiff',\n",
       " '1e2425f28_5852_14587.tiff',\n",
       " '1e2425f28_5852_15090.tiff',\n",
       " '1e2425f28_5852_2012.tiff',\n",
       " '1e2425f28_5852_4527.tiff',\n",
       " '1e2425f28_5852_5030.tiff',\n",
       " '1e2425f28_5852_5533.tiff',\n",
       " '1e2425f28_5852_6036.tiff',\n",
       " '1e2425f28_5852_6539.tiff',\n",
       " '1e2425f28_5852_7042.tiff',\n",
       " '1e2425f28_5852_7545.tiff',\n",
       " '1e2425f28_5852_8551.tiff',\n",
       " '1e2425f28_5852_9054.tiff',\n",
       " '1e2425f28_5852_9557.tiff',\n",
       " '1e2425f28_6270_10563.tiff',\n",
       " '1e2425f28_6270_12072.tiff',\n",
       " '1e2425f28_6270_12575.tiff',\n",
       " '1e2425f28_6270_1509.tiff',\n",
       " '1e2425f28_6270_3018.tiff',\n",
       " '1e2425f28_6270_4527.tiff',\n",
       " '1e2425f28_6270_5030.tiff',\n",
       " '1e2425f28_6270_5533.tiff',\n",
       " '1e2425f28_6270_6539.tiff',\n",
       " '1e2425f28_6270_7042.tiff',\n",
       " '1e2425f28_6270_7545.tiff',\n",
       " '1e2425f28_6270_8048.tiff',\n",
       " '1e2425f28_6270_9557.tiff',\n",
       " '1e2425f28_6688_10563.tiff',\n",
       " '1e2425f28_6688_11569.tiff',\n",
       " '1e2425f28_6688_12072.tiff',\n",
       " '1e2425f28_6688_12575.tiff',\n",
       " '1e2425f28_6688_13581.tiff',\n",
       " '1e2425f28_6688_14084.tiff',\n",
       " '1e2425f28_6688_1509.tiff',\n",
       " '1e2425f28_6688_2012.tiff',\n",
       " '1e2425f28_6688_2515.tiff',\n",
       " '1e2425f28_6688_3018.tiff',\n",
       " '1e2425f28_6688_4024.tiff',\n",
       " '1e2425f28_6688_4527.tiff',\n",
       " '1e2425f28_6688_5030.tiff',\n",
       " '1e2425f28_6688_5533.tiff',\n",
       " '1e2425f28_6688_6036.tiff',\n",
       " '1e2425f28_6688_6539.tiff',\n",
       " '1e2425f28_6688_9054.tiff',\n",
       " '1e2425f28_7106_1006.tiff',\n",
       " '1e2425f28_7106_10060.tiff',\n",
       " '1e2425f28_7106_10563.tiff',\n",
       " '1e2425f28_7106_11066.tiff',\n",
       " '1e2425f28_7106_11569.tiff',\n",
       " '1e2425f28_7106_12072.tiff',\n",
       " '1e2425f28_7106_12575.tiff',\n",
       " '1e2425f28_7106_13581.tiff',\n",
       " '1e2425f28_7106_1509.tiff',\n",
       " '1e2425f28_7106_2012.tiff',\n",
       " '1e2425f28_7106_2515.tiff',\n",
       " '1e2425f28_7106_3018.tiff',\n",
       " '1e2425f28_7106_3521.tiff',\n",
       " '1e2425f28_7106_4024.tiff',\n",
       " '1e2425f28_7106_4527.tiff',\n",
       " '1e2425f28_7106_5030.tiff',\n",
       " '1e2425f28_7106_5533.tiff',\n",
       " '1e2425f28_7106_6036.tiff',\n",
       " '1e2425f28_7106_6539.tiff',\n",
       " '1e2425f28_7106_7042.tiff',\n",
       " '1e2425f28_7106_8551.tiff',\n",
       " '1e2425f28_7524_1006.tiff',\n",
       " '1e2425f28_7524_10563.tiff',\n",
       " '1e2425f28_7524_11066.tiff',\n",
       " '1e2425f28_7524_12072.tiff',\n",
       " '1e2425f28_7524_12575.tiff',\n",
       " '1e2425f28_7524_13581.tiff',\n",
       " '1e2425f28_7524_1509.tiff',\n",
       " '1e2425f28_7524_15090.tiff',\n",
       " '1e2425f28_7524_15593.tiff',\n",
       " '1e2425f28_7524_2012.tiff',\n",
       " '1e2425f28_7524_2515.tiff',\n",
       " '1e2425f28_7524_3521.tiff',\n",
       " '1e2425f28_7524_4024.tiff',\n",
       " '1e2425f28_7524_4527.tiff',\n",
       " '1e2425f28_7524_5533.tiff',\n",
       " '1e2425f28_7524_6539.tiff',\n",
       " '1e2425f28_7524_7042.tiff',\n",
       " '1e2425f28_7524_7545.tiff',\n",
       " '1e2425f28_7524_8551.tiff',\n",
       " '1e2425f28_7524_9054.tiff',\n",
       " '1e2425f28_7942_11569.tiff',\n",
       " '1e2425f28_7942_12072.tiff',\n",
       " '1e2425f28_7942_12575.tiff',\n",
       " '1e2425f28_7942_13078.tiff',\n",
       " '1e2425f28_7942_14084.tiff',\n",
       " '1e2425f28_7942_1509.tiff',\n",
       " '1e2425f28_7942_2012.tiff',\n",
       " '1e2425f28_7942_2515.tiff',\n",
       " '1e2425f28_7942_4527.tiff',\n",
       " '1e2425f28_7942_5533.tiff',\n",
       " '1e2425f28_7942_6036.tiff',\n",
       " '1e2425f28_7942_6539.tiff',\n",
       " '1e2425f28_7942_7042.tiff',\n",
       " '1e2425f28_7942_8551.tiff',\n",
       " '1e2425f28_7942_9054.tiff',\n",
       " '1e2425f28_8360_1006.tiff',\n",
       " '1e2425f28_8360_12575.tiff',\n",
       " '1e2425f28_8360_13078.tiff',\n",
       " '1e2425f28_8360_13581.tiff',\n",
       " '1e2425f28_8360_14084.tiff',\n",
       " '1e2425f28_8360_14587.tiff',\n",
       " '1e2425f28_8360_15090.tiff',\n",
       " '1e2425f28_8360_2012.tiff',\n",
       " '1e2425f28_8360_2515.tiff',\n",
       " '1e2425f28_8360_3018.tiff',\n",
       " '1e2425f28_8360_4527.tiff',\n",
       " '1e2425f28_8360_503.tiff',\n",
       " '1e2425f28_8360_5533.tiff',\n",
       " '1e2425f28_8360_6036.tiff',\n",
       " '1e2425f28_8360_6539.tiff',\n",
       " '1e2425f28_8360_7042.tiff',\n",
       " '1e2425f28_8360_7545.tiff',\n",
       " '1e2425f28_8360_8048.tiff',\n",
       " '1e2425f28_8360_8551.tiff',\n",
       " '1e2425f28_8778_10060.tiff',\n",
       " '1e2425f28_8778_10563.tiff',\n",
       " '1e2425f28_8778_11066.tiff',\n",
       " '1e2425f28_8778_11569.tiff',\n",
       " '1e2425f28_8778_12072.tiff',\n",
       " '1e2425f28_8778_12575.tiff',\n",
       " '1e2425f28_8778_14084.tiff',\n",
       " '1e2425f28_8778_14587.tiff',\n",
       " '1e2425f28_8778_1509.tiff',\n",
       " '1e2425f28_8778_15090.tiff',\n",
       " '1e2425f28_8778_2012.tiff',\n",
       " '1e2425f28_8778_2515.tiff',\n",
       " '1e2425f28_8778_3018.tiff',\n",
       " '1e2425f28_8778_3521.tiff',\n",
       " '1e2425f28_8778_5030.tiff',\n",
       " '1e2425f28_8778_5533.tiff',\n",
       " '1e2425f28_8778_6539.tiff',\n",
       " '1e2425f28_8778_7042.tiff',\n",
       " '1e2425f28_8778_8551.tiff',\n",
       " '1e2425f28_8778_9054.tiff',\n",
       " '1e2425f28_9196_10060.tiff',\n",
       " '1e2425f28_9196_10563.tiff',\n",
       " '1e2425f28_9196_11066.tiff',\n",
       " '1e2425f28_9196_11569.tiff',\n",
       " '1e2425f28_9196_12072.tiff',\n",
       " '1e2425f28_9196_13581.tiff',\n",
       " '1e2425f28_9196_14084.tiff',\n",
       " '1e2425f28_9196_15090.tiff',\n",
       " '1e2425f28_9196_15593.tiff',\n",
       " '1e2425f28_9196_2515.tiff',\n",
       " '1e2425f28_9196_3018.tiff',\n",
       " '1e2425f28_9196_3521.tiff',\n",
       " '1e2425f28_9196_5030.tiff',\n",
       " '1e2425f28_9196_5533.tiff',\n",
       " '1e2425f28_9196_6036.tiff',\n",
       " '1e2425f28_9196_6539.tiff',\n",
       " '1e2425f28_9196_7042.tiff',\n",
       " '1e2425f28_9196_7545.tiff',\n",
       " '1e2425f28_9196_8551.tiff',\n",
       " '1e2425f28_9196_9054.tiff',\n",
       " '1e2425f28_9196_9557.tiff',\n",
       " '1e2425f28_9614_10060.tiff',\n",
       " '1e2425f28_9614_11066.tiff',\n",
       " '1e2425f28_9614_13581.tiff',\n",
       " '1e2425f28_9614_14587.tiff',\n",
       " '1e2425f28_9614_15090.tiff',\n",
       " '1e2425f28_9614_15593.tiff',\n",
       " '1e2425f28_9614_3018.tiff',\n",
       " '1e2425f28_9614_5030.tiff',\n",
       " '1e2425f28_9614_5533.tiff',\n",
       " '1e2425f28_9614_6036.tiff',\n",
       " '1e2425f28_9614_6539.tiff',\n",
       " '1e2425f28_9614_7042.tiff',\n",
       " '1e2425f28_9614_7545.tiff',\n",
       " '1e2425f28_9614_8048.tiff',\n",
       " '1e2425f28_9614_9054.tiff',\n",
       " '1e2425f28_9614_9557.tiff',\n",
       " '2f6ecfcdf_10248_10075.tiff',\n",
       " '2f6ecfcdf_10248_6448.tiff',\n",
       " '2f6ecfcdf_10248_6851.tiff',\n",
       " '2f6ecfcdf_10248_7254.tiff',\n",
       " '2f6ecfcdf_10248_7657.tiff',\n",
       " '2f6ecfcdf_10248_8060.tiff',\n",
       " '2f6ecfcdf_10248_8866.tiff',\n",
       " '2f6ecfcdf_10248_9269.tiff',\n",
       " '2f6ecfcdf_10248_9672.tiff',\n",
       " '2f6ecfcdf_10736_10075.tiff',\n",
       " '2f6ecfcdf_10736_5642.tiff',\n",
       " '2f6ecfcdf_10736_6045.tiff',\n",
       " '2f6ecfcdf_10736_6448.tiff',\n",
       " '2f6ecfcdf_10736_6851.tiff',\n",
       " '2f6ecfcdf_10736_7254.tiff',\n",
       " '2f6ecfcdf_10736_7657.tiff',\n",
       " '2f6ecfcdf_10736_8060.tiff',\n",
       " '2f6ecfcdf_10736_8463.tiff',\n",
       " '2f6ecfcdf_10736_8866.tiff',\n",
       " '2f6ecfcdf_10736_9269.tiff',\n",
       " '2f6ecfcdf_10736_9672.tiff',\n",
       " '2f6ecfcdf_11224_10075.tiff',\n",
       " '2f6ecfcdf_11224_6045.tiff',\n",
       " '2f6ecfcdf_11224_6851.tiff',\n",
       " '2f6ecfcdf_11224_7254.tiff',\n",
       " '2f6ecfcdf_11224_7657.tiff',\n",
       " '2f6ecfcdf_11224_8060.tiff',\n",
       " '2f6ecfcdf_11224_8866.tiff',\n",
       " '2f6ecfcdf_11224_9269.tiff',\n",
       " '2f6ecfcdf_11224_9672.tiff',\n",
       " '2f6ecfcdf_11712_10075.tiff',\n",
       " '2f6ecfcdf_11712_6448.tiff',\n",
       " '2f6ecfcdf_11712_6851.tiff',\n",
       " '2f6ecfcdf_11712_7657.tiff',\n",
       " '2f6ecfcdf_11712_8060.tiff',\n",
       " '2f6ecfcdf_11712_8463.tiff',\n",
       " '2f6ecfcdf_11712_8866.tiff',\n",
       " '2f6ecfcdf_11712_9672.tiff',\n",
       " '2f6ecfcdf_12200_6851.tiff',\n",
       " '2f6ecfcdf_12200_7254.tiff',\n",
       " '2f6ecfcdf_12200_7657.tiff',\n",
       " '2f6ecfcdf_12200_8060.tiff',\n",
       " '2f6ecfcdf_12200_8866.tiff',\n",
       " '2f6ecfcdf_12200_9269.tiff',\n",
       " '2f6ecfcdf_12688_7254.tiff',\n",
       " '2f6ecfcdf_12688_7657.tiff',\n",
       " '2f6ecfcdf_12688_8060.tiff',\n",
       " '2f6ecfcdf_12688_8463.tiff',\n",
       " '2f6ecfcdf_12688_8866.tiff',\n",
       " '2f6ecfcdf_13176_7254.tiff',\n",
       " '2f6ecfcdf_13176_8060.tiff',\n",
       " '2f6ecfcdf_13176_8463.tiff',\n",
       " '2f6ecfcdf_13176_8866.tiff',\n",
       " '2f6ecfcdf_13176_9269.tiff',\n",
       " '2f6ecfcdf_13664_8463.tiff',\n",
       " '2f6ecfcdf_13664_8866.tiff',\n",
       " '2f6ecfcdf_14152_8463.tiff',\n",
       " '2f6ecfcdf_14152_8866.tiff',\n",
       " '2f6ecfcdf_1952_4836.tiff',\n",
       " '2f6ecfcdf_1952_5239.tiff',\n",
       " '2f6ecfcdf_1952_5642.tiff',\n",
       " '2f6ecfcdf_1952_6045.tiff',\n",
       " '2f6ecfcdf_1952_7254.tiff',\n",
       " '2f6ecfcdf_2440_5239.tiff',\n",
       " '2f6ecfcdf_2440_5642.tiff',\n",
       " '2f6ecfcdf_2440_6045.tiff',\n",
       " '2f6ecfcdf_2440_7254.tiff',\n",
       " '2f6ecfcdf_2440_8060.tiff',\n",
       " '2f6ecfcdf_2928_5642.tiff',\n",
       " '2f6ecfcdf_2928_6045.tiff',\n",
       " '2f6ecfcdf_2928_6448.tiff',\n",
       " '2f6ecfcdf_2928_6851.tiff',\n",
       " '2f6ecfcdf_2928_8060.tiff',\n",
       " '2f6ecfcdf_2928_8463.tiff',\n",
       " '2f6ecfcdf_2928_8866.tiff',\n",
       " '2f6ecfcdf_2928_9269.tiff',\n",
       " '2f6ecfcdf_3416_4433.tiff',\n",
       " '2f6ecfcdf_3416_4836.tiff',\n",
       " '2f6ecfcdf_3416_5239.tiff',\n",
       " '2f6ecfcdf_3416_5642.tiff',\n",
       " '2f6ecfcdf_3416_6045.tiff',\n",
       " '2f6ecfcdf_3416_6448.tiff',\n",
       " '2f6ecfcdf_3416_6851.tiff',\n",
       " '2f6ecfcdf_3416_7254.tiff',\n",
       " '2f6ecfcdf_3416_8463.tiff',\n",
       " '2f6ecfcdf_3416_8866.tiff',\n",
       " '2f6ecfcdf_3416_9269.tiff',\n",
       " '2f6ecfcdf_3416_9672.tiff',\n",
       " '2f6ecfcdf_3904_10075.tiff',\n",
       " '2f6ecfcdf_3904_4836.tiff',\n",
       " '2f6ecfcdf_3904_5239.tiff',\n",
       " '2f6ecfcdf_3904_6045.tiff',\n",
       " '2f6ecfcdf_3904_6851.tiff',\n",
       " '2f6ecfcdf_3904_7657.tiff',\n",
       " '2f6ecfcdf_3904_8060.tiff',\n",
       " '2f6ecfcdf_3904_8866.tiff',\n",
       " '2f6ecfcdf_3904_9269.tiff',\n",
       " '2f6ecfcdf_3904_9672.tiff',\n",
       " '2f6ecfcdf_4392_10075.tiff',\n",
       " '2f6ecfcdf_4392_6851.tiff',\n",
       " '2f6ecfcdf_4392_8463.tiff',\n",
       " '2f6ecfcdf_4392_8866.tiff',\n",
       " '2f6ecfcdf_4392_9269.tiff',\n",
       " '2f6ecfcdf_4880_10075.tiff',\n",
       " '2f6ecfcdf_4880_10478.tiff',\n",
       " '2f6ecfcdf_4880_8463.tiff',\n",
       " '2f6ecfcdf_4880_8866.tiff',\n",
       " '2f6ecfcdf_4880_9269.tiff',\n",
       " '2f6ecfcdf_4880_9672.tiff',\n",
       " '2f6ecfcdf_5368_10075.tiff',\n",
       " '2f6ecfcdf_5368_10478.tiff',\n",
       " '2f6ecfcdf_5368_8463.tiff',\n",
       " '2f6ecfcdf_5368_8866.tiff',\n",
       " '2f6ecfcdf_5368_9672.tiff',\n",
       " '2f6ecfcdf_5856_10075.tiff',\n",
       " '2f6ecfcdf_5856_10478.tiff',\n",
       " '2f6ecfcdf_5856_8866.tiff',\n",
       " '2f6ecfcdf_5856_9269.tiff',\n",
       " '2f6ecfcdf_5856_9672.tiff',\n",
       " '2f6ecfcdf_6344_10478.tiff',\n",
       " '2f6ecfcdf_6344_9269.tiff',\n",
       " '2f6ecfcdf_6344_9672.tiff',\n",
       " '2f6ecfcdf_6832_10075.tiff',\n",
       " '2f6ecfcdf_6832_10478.tiff',\n",
       " '2f6ecfcdf_6832_9269.tiff',\n",
       " '2f6ecfcdf_6832_9672.tiff',\n",
       " '2f6ecfcdf_7320_10075.tiff',\n",
       " '2f6ecfcdf_7320_10478.tiff',\n",
       " '2f6ecfcdf_7320_8866.tiff',\n",
       " '2f6ecfcdf_7320_9269.tiff',\n",
       " '2f6ecfcdf_7320_9672.tiff',\n",
       " '2f6ecfcdf_7808_10478.tiff',\n",
       " '2f6ecfcdf_7808_8866.tiff',\n",
       " '2f6ecfcdf_7808_9269.tiff',\n",
       " '2f6ecfcdf_7808_9672.tiff',\n",
       " '2f6ecfcdf_8296_10075.tiff',\n",
       " '2f6ecfcdf_8296_10881.tiff',\n",
       " '2f6ecfcdf_8296_8866.tiff',\n",
       " '2f6ecfcdf_8296_9672.tiff',\n",
       " '2f6ecfcdf_8784_10075.tiff',\n",
       " '2f6ecfcdf_8784_10478.tiff',\n",
       " '2f6ecfcdf_8784_10881.tiff',\n",
       " '2f6ecfcdf_8784_11687.tiff',\n",
       " '2f6ecfcdf_8784_8866.tiff',\n",
       " '2f6ecfcdf_8784_9269.tiff',\n",
       " '2f6ecfcdf_8784_9672.tiff',\n",
       " '2f6ecfcdf_9272_10075.tiff',\n",
       " '2f6ecfcdf_9272_10478.tiff',\n",
       " '2f6ecfcdf_9272_10881.tiff',\n",
       " '2f6ecfcdf_9272_8866.tiff',\n",
       " '2f6ecfcdf_9272_9269.tiff',\n",
       " '2f6ecfcdf_9272_9672.tiff',\n",
       " '2f6ecfcdf_9760_10478.tiff',\n",
       " '2f6ecfcdf_9760_6851.tiff',\n",
       " '2f6ecfcdf_9760_7254.tiff',\n",
       " '2f6ecfcdf_9760_7657.tiff',\n",
       " '2f6ecfcdf_9760_8463.tiff',\n",
       " '2f6ecfcdf_9760_8866.tiff',\n",
       " '2f6ecfcdf_9760_9269.tiff',\n",
       " '2f6ecfcdf_9760_9672.tiff',\n",
       " '54f2eec69_1425_3470.tiff',\n",
       " '54f2eec69_1425_4164.tiff',\n",
       " '54f2eec69_1425_4858.tiff',\n",
       " '54f2eec69_1425_5205.tiff',\n",
       " '54f2eec69_1425_6246.tiff',\n",
       " '54f2eec69_1425_6593.tiff',\n",
       " '54f2eec69_1900_3470.tiff',\n",
       " '54f2eec69_1900_4164.tiff',\n",
       " '54f2eec69_1900_4511.tiff',\n",
       " '54f2eec69_1900_4858.tiff',\n",
       " '54f2eec69_1900_5205.tiff',\n",
       " '54f2eec69_1900_5552.tiff',\n",
       " '54f2eec69_1900_5899.tiff',\n",
       " '54f2eec69_1900_6246.tiff',\n",
       " '54f2eec69_1900_6593.tiff',\n",
       " '54f2eec69_1900_7634.tiff',\n",
       " '54f2eec69_2375_3123.tiff',\n",
       " '54f2eec69_2375_3817.tiff',\n",
       " '54f2eec69_2375_4511.tiff',\n",
       " '54f2eec69_2375_5205.tiff',\n",
       " '54f2eec69_2375_5552.tiff',\n",
       " '54f2eec69_2375_6940.tiff',\n",
       " '54f2eec69_2375_7287.tiff',\n",
       " '54f2eec69_2375_7634.tiff',\n",
       " '54f2eec69_2375_8328.tiff',\n",
       " '54f2eec69_2850_3123.tiff',\n",
       " '54f2eec69_2850_4164.tiff',\n",
       " '54f2eec69_2850_4511.tiff',\n",
       " '54f2eec69_2850_5899.tiff',\n",
       " '54f2eec69_2850_6246.tiff',\n",
       " '54f2eec69_2850_6593.tiff',\n",
       " '54f2eec69_2850_7287.tiff',\n",
       " '54f2eec69_2850_7634.tiff',\n",
       " '54f2eec69_2850_7981.tiff',\n",
       " '54f2eec69_3325_2429.tiff',\n",
       " '54f2eec69_3325_2776.tiff',\n",
       " '54f2eec69_3325_3817.tiff',\n",
       " '54f2eec69_3325_4164.tiff',\n",
       " '54f2eec69_3325_5205.tiff',\n",
       " '54f2eec69_3325_5552.tiff',\n",
       " '54f2eec69_3325_5899.tiff',\n",
       " '54f2eec69_3325_6246.tiff',\n",
       " '54f2eec69_3325_6940.tiff',\n",
       " '54f2eec69_3325_7287.tiff',\n",
       " '54f2eec69_3325_7634.tiff',\n",
       " '54f2eec69_3325_7981.tiff',\n",
       " '54f2eec69_3800_2429.tiff',\n",
       " '54f2eec69_3800_2776.tiff',\n",
       " '54f2eec69_3800_5552.tiff',\n",
       " '54f2eec69_3800_5899.tiff',\n",
       " '54f2eec69_3800_6940.tiff',\n",
       " '54f2eec69_3800_7634.tiff',\n",
       " '54f2eec69_3800_7981.tiff',\n",
       " '54f2eec69_3800_8328.tiff',\n",
       " '54f2eec69_3800_8675.tiff',\n",
       " '54f2eec69_4275_2429.tiff',\n",
       " '54f2eec69_4275_2776.tiff',\n",
       " '54f2eec69_4275_3470.tiff',\n",
       " '54f2eec69_4275_3817.tiff',\n",
       " '54f2eec69_4275_4511.tiff',\n",
       " '54f2eec69_4275_5899.tiff',\n",
       " '54f2eec69_4275_6246.tiff',\n",
       " '54f2eec69_4275_7287.tiff',\n",
       " '54f2eec69_4275_7634.tiff',\n",
       " '54f2eec69_4275_7981.tiff',\n",
       " '54f2eec69_4275_8328.tiff',\n",
       " '54f2eec69_4275_8675.tiff',\n",
       " '54f2eec69_4275_9022.tiff',\n",
       " '54f2eec69_4275_9369.tiff',\n",
       " '54f2eec69_4275_9716.tiff',\n",
       " '54f2eec69_4750_10063.tiff',\n",
       " '54f2eec69_4750_3470.tiff',\n",
       " '54f2eec69_4750_4858.tiff',\n",
       " '54f2eec69_4750_5205.tiff',\n",
       " '54f2eec69_4750_5899.tiff',\n",
       " '54f2eec69_4750_6246.tiff',\n",
       " '54f2eec69_4750_6940.tiff',\n",
       " '54f2eec69_4750_7287.tiff',\n",
       " '54f2eec69_4750_7634.tiff',\n",
       " '54f2eec69_4750_7981.tiff',\n",
       " '54f2eec69_4750_8328.tiff',\n",
       " '54f2eec69_4750_9369.tiff',\n",
       " '54f2eec69_4750_9716.tiff',\n",
       " '54f2eec69_475_4858.tiff',\n",
       " '54f2eec69_475_5205.tiff',\n",
       " '54f2eec69_5225_1735.tiff',\n",
       " '54f2eec69_5225_2082.tiff',\n",
       " '54f2eec69_5225_3470.tiff',\n",
       " '54f2eec69_5225_3817.tiff',\n",
       " '54f2eec69_5225_4164.tiff',\n",
       " '54f2eec69_5225_6593.tiff',\n",
       " '54f2eec69_5225_6940.tiff',\n",
       " '54f2eec69_5225_7287.tiff',\n",
       " '54f2eec69_5225_7634.tiff',\n",
       " '54f2eec69_5225_8675.tiff',\n",
       " '54f2eec69_5225_9022.tiff',\n",
       " '54f2eec69_5225_9369.tiff',\n",
       " '54f2eec69_5225_9716.tiff',\n",
       " '54f2eec69_5700_2082.tiff',\n",
       " '54f2eec69_5700_2429.tiff',\n",
       " '54f2eec69_5700_3470.tiff',\n",
       " '54f2eec69_5700_3817.tiff',\n",
       " '54f2eec69_5700_4164.tiff',\n",
       " '54f2eec69_5700_5899.tiff',\n",
       " '54f2eec69_5700_7287.tiff',\n",
       " '54f2eec69_5700_7981.tiff',\n",
       " '54f2eec69_5700_8328.tiff',\n",
       " '54f2eec69_5700_8675.tiff',\n",
       " '54f2eec69_5700_9022.tiff',\n",
       " ...]"
      ]
     },
     "execution_count": 39,
     "metadata": {},
     "output_type": "execute_result"
    }
   ],
   "source": [
    "save_list"
   ]
  },
  {
   "cell_type": "code",
   "execution_count": 40,
   "metadata": {},
   "outputs": [
    {
     "name": "stdout",
     "output_type": "stream",
     "text": [
      "Wall time: 8.45 s\n"
     ]
    }
   ],
   "source": [
    "%%time\n",
    "\n",
    "contour_list_tiles = []\n",
    "\n",
    "for name in save_list:\n",
    "    path = os.path.join('../train/masks/slices', name)\n",
    "    image = tiff.imread(path)\n",
    "    \n",
    "    contours = cv2.findContours(image, cv2.RETR_EXTERNAL, cv2.CHAIN_APPROX_SIMPLE)\n",
    "    contours = imutils.grab_contours(contours)\n",
    "    \n",
    "    for c in contours:\n",
    "        contour_dict = {}\n",
    "        x,y,w,h = cv2.boundingRect(c)\n",
    "        \n",
    "        contour_dict['filename'] = name\n",
    "        contour_dict['width'] = w\n",
    "        contour_dict['height'] = h\n",
    "        contour_dict['class'] = 'glomeruli'\n",
    "        contour_dict['xmin'] = x\n",
    "        contour_dict['ymin'] = y\n",
    "        contour_dict['xmax'] = x+w\n",
    "        contour_dict['ymax'] = y+h\n",
    "\n",
    "        contour_list_tiles.append(contour_dict)"
   ]
  },
  {
   "cell_type": "code",
   "execution_count": 41,
   "metadata": {},
   "outputs": [],
   "source": [
    "glomeruli_tiles = pd.DataFrame(contour_list_tiles)"
   ]
  },
  {
   "cell_type": "code",
   "execution_count": 42,
   "metadata": {},
   "outputs": [
    {
     "data": {
      "text/html": [
       "<div>\n",
       "<style scoped>\n",
       "    .dataframe tbody tr th:only-of-type {\n",
       "        vertical-align: middle;\n",
       "    }\n",
       "\n",
       "    .dataframe tbody tr th {\n",
       "        vertical-align: top;\n",
       "    }\n",
       "\n",
       "    .dataframe thead th {\n",
       "        text-align: right;\n",
       "    }\n",
       "</style>\n",
       "<table border=\"1\" class=\"dataframe\">\n",
       "  <thead>\n",
       "    <tr style=\"text-align: right;\">\n",
       "      <th></th>\n",
       "      <th>filename</th>\n",
       "      <th>width</th>\n",
       "      <th>height</th>\n",
       "      <th>class</th>\n",
       "      <th>xmin</th>\n",
       "      <th>ymin</th>\n",
       "      <th>xmax</th>\n",
       "      <th>ymax</th>\n",
       "    </tr>\n",
       "  </thead>\n",
       "  <tbody>\n",
       "    <tr>\n",
       "      <th>0</th>\n",
       "      <td>0486052bb_10050_3815.tiff</td>\n",
       "      <td>118</td>\n",
       "      <td>123</td>\n",
       "      <td>glomeruli</td>\n",
       "      <td>427</td>\n",
       "      <td>279</td>\n",
       "      <td>545</td>\n",
       "      <td>402</td>\n",
       "    </tr>\n",
       "    <tr>\n",
       "      <th>1</th>\n",
       "      <td>0486052bb_10050_4360.tiff</td>\n",
       "      <td>92</td>\n",
       "      <td>125</td>\n",
       "      <td>glomeruli</td>\n",
       "      <td>0</td>\n",
       "      <td>277</td>\n",
       "      <td>92</td>\n",
       "      <td>402</td>\n",
       "    </tr>\n",
       "    <tr>\n",
       "      <th>2</th>\n",
       "      <td>0486052bb_10050_4360.tiff</td>\n",
       "      <td>193</td>\n",
       "      <td>167</td>\n",
       "      <td>glomeruli</td>\n",
       "      <td>307</td>\n",
       "      <td>108</td>\n",
       "      <td>500</td>\n",
       "      <td>275</td>\n",
       "    </tr>\n",
       "    <tr>\n",
       "      <th>3</th>\n",
       "      <td>0486052bb_10050_4905.tiff</td>\n",
       "      <td>106</td>\n",
       "      <td>79</td>\n",
       "      <td>glomeruli</td>\n",
       "      <td>117</td>\n",
       "      <td>218</td>\n",
       "      <td>223</td>\n",
       "      <td>297</td>\n",
       "    </tr>\n",
       "    <tr>\n",
       "      <th>4</th>\n",
       "      <td>0486052bb_10050_4905.tiff</td>\n",
       "      <td>121</td>\n",
       "      <td>126</td>\n",
       "      <td>glomeruli</td>\n",
       "      <td>424</td>\n",
       "      <td>74</td>\n",
       "      <td>545</td>\n",
       "      <td>200</td>\n",
       "    </tr>\n",
       "  </tbody>\n",
       "</table>\n",
       "</div>"
      ],
      "text/plain": [
       "                    filename  width  height      class  xmin  ymin  xmax  ymax\n",
       "0  0486052bb_10050_3815.tiff    118     123  glomeruli   427   279   545   402\n",
       "1  0486052bb_10050_4360.tiff     92     125  glomeruli     0   277    92   402\n",
       "2  0486052bb_10050_4360.tiff    193     167  glomeruli   307   108   500   275\n",
       "3  0486052bb_10050_4905.tiff    106      79  glomeruli   117   218   223   297\n",
       "4  0486052bb_10050_4905.tiff    121     126  glomeruli   424    74   545   200"
      ]
     },
     "execution_count": 42,
     "metadata": {},
     "output_type": "execute_result"
    }
   ],
   "source": [
    "glomeruli_tiles.head()"
   ]
  },
  {
   "cell_type": "code",
   "execution_count": 43,
   "metadata": {},
   "outputs": [],
   "source": [
    "glomeruli_tiles.to_csv('../CSVs/glomeruli_tiles.csv', index=False)"
   ]
  },
  {
   "cell_type": "markdown",
   "metadata": {},
   "source": [
    "### Resize the test images and make them grey"
   ]
  },
  {
   "cell_type": "code",
   "execution_count": 44,
   "metadata": {},
   "outputs": [],
   "source": [
    "def resize_test(img_id, scale_percent):\n",
    "        path = os.path.join('../test/images', img_id+'.tiff')\n",
    "        image = tiff.imread(path)\n",
    "        if len(image.shape) == 5:\n",
    "            image = image.squeeze().transpose(1, 2, 0)\n",
    "        \n",
    "        width = int(image.shape[1] * scale_percent)\n",
    "        height = int(image.shape[0] * scale_percent)\n",
    "        dimensions = (width, height)\n",
    "        \n",
    "        resized = cv2.resize(image, dimensions)\n",
    "        return resized"
   ]
  },
  {
   "cell_type": "code",
   "execution_count": 45,
   "metadata": {},
   "outputs": [],
   "source": [
    "def to_grey_test(img_id):\n",
    "    path = os.path.join('../test/images', img_id + '.tiff')\n",
    "    image = tiff.imread(path)\n",
    "    weights = [0.2989, 0.5870, 0.1140]\n",
    "    grey_img = np.dot(image, weights)\n",
    "    return grey_img"
   ]
  },
  {
   "cell_type": "code",
   "execution_count": 46,
   "metadata": {},
   "outputs": [],
   "source": [
    "test_names = os.listdir('../test/images')[:-2]"
   ]
  },
  {
   "cell_type": "code",
   "execution_count": 47,
   "metadata": {},
   "outputs": [],
   "source": [
    "test_ids = [i[:-5] for i in test_names]"
   ]
  },
  {
   "cell_type": "code",
   "execution_count": 48,
   "metadata": {},
   "outputs": [
    {
     "data": {
      "text/plain": [
       "['26dc41664', 'afa5e8098', 'b2dc8411c', 'b9a3865fc', 'c68fe75ea']"
      ]
     },
     "execution_count": 48,
     "metadata": {},
     "output_type": "execute_result"
    }
   ],
   "source": [
    "test_ids"
   ]
  },
  {
   "cell_type": "code",
   "execution_count": 49,
   "metadata": {},
   "outputs": [
    {
     "name": "stdout",
     "output_type": "stream",
     "text": [
      "26dc41664 has been resized\n",
      "afa5e8098 has been resized\n",
      "b2dc8411c has been resized\n",
      "b9a3865fc has been resized\n",
      "c68fe75ea has been resized\n"
     ]
    }
   ],
   "source": [
    "for name in test_ids:\n",
    "    smaller = resize_test(name, 0.5)\n",
    "    fullpath = os.path.join('../test/images', name+ '_small.tiff')\n",
    "    cv2.imwrite(fullpath, smaller)\n",
    "    print(f'{name} has been resized')"
   ]
  },
  {
   "cell_type": "code",
   "execution_count": 50,
   "metadata": {},
   "outputs": [],
   "source": [
    "test_small = [i + '_small' for i in test_ids]"
   ]
  },
  {
   "cell_type": "code",
   "execution_count": 51,
   "metadata": {},
   "outputs": [
    {
     "name": "stdout",
     "output_type": "stream",
     "text": [
      "26dc41664_small is grey now\n",
      "afa5e8098_small is grey now\n",
      "b2dc8411c_small is grey now\n",
      "b9a3865fc_small is grey now\n",
      "c68fe75ea_small is grey now\n"
     ]
    }
   ],
   "source": [
    "for name in test_small:\n",
    "    grey = to_grey_test(name)\n",
    "    fullpath = os.path.join('../test/images/grey', name+ '_grey.tiff')\n",
    "    cv2.imwrite(fullpath, grey)\n",
    "    print(f'{name} is grey now')"
   ]
  },
  {
   "cell_type": "markdown",
   "metadata": {},
   "source": [
    "### Split each test image into smaller tiles"
   ]
  },
  {
   "cell_type": "code",
   "execution_count": 52,
   "metadata": {},
   "outputs": [],
   "source": [
    "grey_names = [i + '_grey' for i in test_small]"
   ]
  },
  {
   "cell_type": "code",
   "execution_count": 53,
   "metadata": {},
   "outputs": [],
   "source": [
    "def slice_test(image_id):\n",
    "    fullpath = os.path.join('../test/images/grey', image_id + '.tiff')\n",
    "    image = tiff.imread(fullpath)\n",
    "    real_id = image_id[:-11]\n",
    "    \n",
    "    if image.shape[0] < 15000:\n",
    "        for r in range(0, image.shape[0], int(image.shape[0]/16)):\n",
    "            for c in range(0, image.shape[1], int(image.shape[1]/16)):\n",
    "                cv2.imwrite(f\"../test/images/slices/{real_id}_{r}_{c}.tiff\", image[r:r+ int(image.shape[0]/16), c:c+ int(image.shape[1]/16)])\n",
    "        \n",
    "    else:\n",
    "        for r in range(0, image.shape[0], int(image.shape[0]/32)):\n",
    "            for c in range(0, image.shape[1], int(image.shape[1]/32)):\n",
    "                cv2.imwrite(f\"../test/images/slices/{real_id}_{r}_{c}.tiff\", image[r:r+ int(image.shape[0]/32), c:c+ int(image.shape[1]/32)])\n",
    "    print(f'{image_id} has been sliced')"
   ]
  },
  {
   "cell_type": "code",
   "execution_count": 54,
   "metadata": {
    "scrolled": true
   },
   "outputs": [
    {
     "name": "stdout",
     "output_type": "stream",
     "text": [
      "26dc41664_small_grey has been sliced\n",
      "afa5e8098_small_grey has been sliced\n",
      "b2dc8411c_small_grey has been sliced\n",
      "b9a3865fc_small_grey has been sliced\n",
      "c68fe75ea_small_grey has been sliced\n"
     ]
    }
   ],
   "source": [
    "for name in grey_names:\n",
    "    slice_test(name)"
   ]
  },
  {
   "cell_type": "markdown",
   "metadata": {},
   "source": [
    "### Everything is prepped now, time to model :D"
   ]
  },
  {
   "cell_type": "markdown",
   "metadata": {},
   "source": [
    "## Some extra code:  \n",
    "### Load in one of the new image masks, find contours, making bounding rectangle, and visualize the rectangles \n",
    "If you want to visualize the masks, turn the cells back into code cells and run"
   ]
  },
  {
   "cell_type": "raw",
   "metadata": {},
   "source": [
    "path = os.path.join(mask_path, '1e2425f28'+'_mask.tiff')\n",
    "image = tiff.imread(path)\n",
    "contours = cv2.findContours(image, cv2.RETR_EXTERNAL, cv2.CHAIN_APPROX_SIMPLE)\n",
    "contours = imutils.grab_contours(contours)\n",
    "    \n",
    "for c in contours:\n",
    "    x,y,w,h = cv2.boundingRect(c)\n",
    "    drawn = cv2.rectangle(image,(x,y),(x+w,y+h),(255,0,0),1)\n",
    "\n",
    "    fullpath = os.path.join(mask_path, '1e2425f28' + '_contours.tiff')\n",
    "    cv2.imwrite(fullpath, drawn)"
   ]
  },
  {
   "cell_type": "raw",
   "metadata": {},
   "source": [
    "path2 = os.path.join(mask_path, '1e2425f28'+'_contours.tiff')\n",
    "contoured_img = cv2.imread(path2)\n",
    "\n",
    "width = int(contoured_img.shape[1] * 0.5)\n",
    "height = int(contoured_img.shape[0] * 0.5)\n",
    "dimensions = (width, height)\n",
    "        \n",
    "small = cv2.resize(contoured_img, dimensions)"
   ]
  },
  {
   "cell_type": "raw",
   "metadata": {},
   "source": [
    "plt.figure(figsize=[20,20])\n",
    "zoomed = small[5000:5300, 5000:5850]\n",
    "plt.imshow(zoomed)"
   ]
  },
  {
   "cell_type": "markdown",
   "metadata": {},
   "source": [
    "### Load in the new image masks, find contours, make dictionary with width, height, xmin, ymin, xmax, ymax, put dictionary in list\n",
    "If you want a CSV of the masks of the originals, turn these cells back into code cells and run"
   ]
  },
  {
   "cell_type": "raw",
   "metadata": {},
   "source": [
    "contour_list = []\n",
    "\n",
    "for name in img_name_list:\n",
    "    path = os.path.join(mask_path, name +'_mask.tiff')\n",
    "    image = tiff.imread(path)\n",
    "    \n",
    "    contours = cv2.findContours(image, cv2.RETR_EXTERNAL, cv2.CHAIN_APPROX_SIMPLE)\n",
    "    contours = imutils.grab_contours(contours)\n",
    "    \n",
    "    for c in contours:\n",
    "        contour_dict = {}\n",
    "        x,y,w,h = cv2.boundingRect(c)\n",
    "        \n",
    "        contour_dict['filename'] = name + '.tiff'\n",
    "        contour_dict['width'] = w\n",
    "        contour_dict['height'] = h\n",
    "        contour_dict['class'] = 'glomeruli'\n",
    "        contour_dict['xmin'] = x\n",
    "        contour_dict['ymin'] = y\n",
    "        contour_dict['xmax'] = x+w\n",
    "        contour_dict['ymax'] = y+h\n",
    "\n",
    "        contour_list.append(contour_dict)"
   ]
  },
  {
   "cell_type": "raw",
   "metadata": {},
   "source": [
    "glomeruli = pd.DataFrame(contour_list)"
   ]
  },
  {
   "cell_type": "raw",
   "metadata": {},
   "source": [
    "glomeruli.head()"
   ]
  },
  {
   "cell_type": "raw",
   "metadata": {},
   "source": [
    "glomeruli.to_csv('../CSVs/glomeruli.csv', index=False)"
   ]
  }
 ],
 "metadata": {
  "kernelspec": {
   "display_name": "Python 3",
   "language": "python",
   "name": "python3"
  },
  "language_info": {
   "codemirror_mode": {
    "name": "ipython",
    "version": 3
   },
   "file_extension": ".py",
   "mimetype": "text/x-python",
   "name": "python",
   "nbconvert_exporter": "python",
   "pygments_lexer": "ipython3",
   "version": "3.8.5"
  }
 },
 "nbformat": 4,
 "nbformat_minor": 4
}
