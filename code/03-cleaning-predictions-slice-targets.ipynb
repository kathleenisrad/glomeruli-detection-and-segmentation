{
 "cells": [
  {
   "cell_type": "markdown",
   "id": "supreme-stylus",
   "metadata": {},
   "source": [
    "# Cleaning the predictions dataframe & slice out the targets\n",
    "There was probably a better way to save the predictions."
   ]
  },
  {
   "cell_type": "markdown",
   "id": "tropical-master",
   "metadata": {},
   "source": [
    "### Import things"
   ]
  },
  {
   "cell_type": "code",
   "execution_count": 1,
   "id": "laden-victorian",
   "metadata": {},
   "outputs": [],
   "source": [
    "import os\n",
    "import cv2\n",
    "import numpy as np\n",
    "import pandas as pd\n",
    "\n",
    "import tifffile as tiff\n",
    "from PIL import Image, ImageDraw\n",
    "from torchvision.transforms import ToPILImage  \n",
    "import matplotlib.pyplot as plt"
   ]
  },
  {
   "cell_type": "code",
   "execution_count": 2,
   "id": "reliable-primary",
   "metadata": {},
   "outputs": [],
   "source": [
    "# make a new folder for the sliced targets\n",
    "try:\n",
    "    os.mkdir('../test/boxed')\n",
    "except:\n",
    "    pass"
   ]
  },
  {
   "cell_type": "markdown",
   "id": "particular-psychology",
   "metadata": {},
   "source": [
    "### Load dataset"
   ]
  },
  {
   "cell_type": "code",
   "execution_count": 3,
   "id": "brave-proxy",
   "metadata": {},
   "outputs": [],
   "source": [
    "df = pd.read_csv('../CSVs/test_preds.csv')"
   ]
  },
  {
   "cell_type": "code",
   "execution_count": 4,
   "id": "sitting-market",
   "metadata": {},
   "outputs": [],
   "source": [
    "# we don't need the labels column\n",
    "df = df.drop('labels', axis = 1)"
   ]
  },
  {
   "cell_type": "code",
   "execution_count": 5,
   "id": "animal-texture",
   "metadata": {},
   "outputs": [
    {
     "data": {
      "text/html": [
       "<div>\n",
       "<style scoped>\n",
       "    .dataframe tbody tr th:only-of-type {\n",
       "        vertical-align: middle;\n",
       "    }\n",
       "\n",
       "    .dataframe tbody tr th {\n",
       "        vertical-align: top;\n",
       "    }\n",
       "\n",
       "    .dataframe thead th {\n",
       "        text-align: right;\n",
       "    }\n",
       "</style>\n",
       "<table border=\"1\" class=\"dataframe\">\n",
       "  <thead>\n",
       "    <tr style=\"text-align: right;\">\n",
       "      <th></th>\n",
       "      <th>filename</th>\n",
       "      <th>boxes</th>\n",
       "      <th>scores</th>\n",
       "    </tr>\n",
       "  </thead>\n",
       "  <tbody>\n",
       "    <tr>\n",
       "      <th>0</th>\n",
       "      <td>26dc41664_0_0.tiff</td>\n",
       "      <td>tensor([[351.8979, 595.6012, 353.0101, 595.978...</td>\n",
       "      <td>tensor([0.1850, 0.0802], device='cuda:0')</td>\n",
       "    </tr>\n",
       "    <tr>\n",
       "      <th>1</th>\n",
       "      <td>26dc41664_0_10576.tiff</td>\n",
       "      <td>tensor([[  0.8213, 595.5236,   2.7035, 595.982...</td>\n",
       "      <td>tensor([0.2273, 0.2135], device='cuda:0')</td>\n",
       "    </tr>\n",
       "    <tr>\n",
       "      <th>2</th>\n",
       "      <td>26dc41664_0_11237.tiff</td>\n",
       "      <td>tensor([[  6.0920, 595.8847,  10.6282, 595.998...</td>\n",
       "      <td>tensor([0.3000, 0.2998, 0.0830, 0.0738], devic...</td>\n",
       "    </tr>\n",
       "    <tr>\n",
       "      <th>3</th>\n",
       "      <td>26dc41664_0_11898.tiff</td>\n",
       "      <td>tensor([[  0.9095, 595.4414,   2.7767, 596.000...</td>\n",
       "      <td>tensor([0.1307, 0.1217], device='cuda:0')</td>\n",
       "    </tr>\n",
       "    <tr>\n",
       "      <th>4</th>\n",
       "      <td>26dc41664_0_12559.tiff</td>\n",
       "      <td>tensor([[  2.4880, 595.9504,   4.4031, 596.000...</td>\n",
       "      <td>tensor([0.3689, 0.0760, 0.0659], device='cuda:0')</td>\n",
       "    </tr>\n",
       "  </tbody>\n",
       "</table>\n",
       "</div>"
      ],
      "text/plain": [
       "                 filename                                              boxes  \\\n",
       "0      26dc41664_0_0.tiff  tensor([[351.8979, 595.6012, 353.0101, 595.978...   \n",
       "1  26dc41664_0_10576.tiff  tensor([[  0.8213, 595.5236,   2.7035, 595.982...   \n",
       "2  26dc41664_0_11237.tiff  tensor([[  6.0920, 595.8847,  10.6282, 595.998...   \n",
       "3  26dc41664_0_11898.tiff  tensor([[  0.9095, 595.4414,   2.7767, 596.000...   \n",
       "4  26dc41664_0_12559.tiff  tensor([[  2.4880, 595.9504,   4.4031, 596.000...   \n",
       "\n",
       "                                              scores  \n",
       "0          tensor([0.1850, 0.0802], device='cuda:0')  \n",
       "1          tensor([0.2273, 0.2135], device='cuda:0')  \n",
       "2  tensor([0.3000, 0.2998, 0.0830, 0.0738], devic...  \n",
       "3          tensor([0.1307, 0.1217], device='cuda:0')  \n",
       "4  tensor([0.3689, 0.0760, 0.0659], device='cuda:0')  "
      ]
     },
     "execution_count": 5,
     "metadata": {},
     "output_type": "execute_result"
    }
   ],
   "source": [
    "df.head()"
   ]
  },
  {
   "cell_type": "markdown",
   "id": "noble-liberia",
   "metadata": {},
   "source": [
    "### Cleaning"
   ]
  },
  {
   "cell_type": "markdown",
   "id": "false-auditor",
   "metadata": {},
   "source": [
    "The boxes and scores columns are strings of tensor arrays.  \n",
    "I need to turn them into lists of lists.\n",
    "\n",
    "    1. split by '[', get rid of index 0\n",
    "    2. join by '['\n",
    "    3. split again by ']', get rid of last index\n",
    "    4. join by ']'\n",
    "    5. get rid of extra spaces\n",
    "    6. get rid of the '\\n'\n",
    "    7. use eval() on the columns "
   ]
  },
  {
   "cell_type": "code",
   "execution_count": 6,
   "id": "lasting-confidentiality",
   "metadata": {},
   "outputs": [],
   "source": [
    "# steps 1 - 6 for boxes\n",
    "df['boxes'] = df['boxes'].map(lambda x:']'.join('['.join(x.split('[')[1:]).split(']')[:-1]).replace(' ', '').replace('\\n', ' '))"
   ]
  },
  {
   "cell_type": "code",
   "execution_count": 7,
   "id": "dependent-payroll",
   "metadata": {},
   "outputs": [],
   "source": [
    "# steps 1 - 6 for scores\n",
    "df['scores'] = df['scores'].map(lambda x: ']'.join('['.join(x.split('[')[1:]).split(']')[:-1]).replace(' ', '').replace('\\n', ' '))"
   ]
  },
  {
   "cell_type": "code",
   "execution_count": 8,
   "id": "ambient-legislature",
   "metadata": {
    "scrolled": true
   },
   "outputs": [],
   "source": [
    "# step 7 for boxes\n",
    "l = []\n",
    "for rows in range(len(df['boxes'])):\n",
    "    e = df['boxes'][rows]\n",
    "    if len(df['boxes'][rows]) > 0:\n",
    "        e = list(eval(df['boxes'][rows]))\n",
    "    l.append(e)\n",
    "\n",
    "df['boxes'] = l"
   ]
  },
  {
   "cell_type": "code",
   "execution_count": 9,
   "id": "tight-sector",
   "metadata": {},
   "outputs": [],
   "source": [
    "# drop the boxes with no targets\n",
    "df = df[df['boxes'] != '']\n",
    "\n",
    "# reset the index\n",
    "df = df.reset_index(drop=True)"
   ]
  },
  {
   "cell_type": "markdown",
   "id": "viral-exception",
   "metadata": {},
   "source": [
    "### Save the new clean predictions dataframe"
   ]
  },
  {
   "cell_type": "code",
   "execution_count": 10,
   "id": "deluxe-header",
   "metadata": {},
   "outputs": [],
   "source": [
    "# turn the strings in the scores column into floats\n",
    "df['scores'] = df['scores'].map(lambda x: [float(y) for y in x.split(',')])"
   ]
  },
  {
   "cell_type": "code",
   "execution_count": 11,
   "id": "unlikely-morning",
   "metadata": {},
   "outputs": [],
   "source": [
    "df.to_csv('../CSVs/preds_clean.csv', index=False)"
   ]
  },
  {
   "cell_type": "markdown",
   "id": "coordinate-employer",
   "metadata": {},
   "source": [
    "### Making a new dataframe of just the targets"
   ]
  },
  {
   "cell_type": "code",
   "execution_count": 12,
   "id": "utility-circular",
   "metadata": {},
   "outputs": [
    {
     "data": {
      "text/html": [
       "<div>\n",
       "<style scoped>\n",
       "    .dataframe tbody tr th:only-of-type {\n",
       "        vertical-align: middle;\n",
       "    }\n",
       "\n",
       "    .dataframe tbody tr th {\n",
       "        vertical-align: top;\n",
       "    }\n",
       "\n",
       "    .dataframe thead th {\n",
       "        text-align: right;\n",
       "    }\n",
       "</style>\n",
       "<table border=\"1\" class=\"dataframe\">\n",
       "  <thead>\n",
       "    <tr style=\"text-align: right;\">\n",
       "      <th></th>\n",
       "      <th>filename</th>\n",
       "      <th>boxes</th>\n",
       "      <th>scores</th>\n",
       "    </tr>\n",
       "  </thead>\n",
       "  <tbody>\n",
       "    <tr>\n",
       "      <th>0</th>\n",
       "      <td>26dc41664_0_0.tiff</td>\n",
       "      <td>[[351.8979, 595.6012, 353.0101, 595.9781], [35...</td>\n",
       "      <td>[0.185, 0.0802]</td>\n",
       "    </tr>\n",
       "    <tr>\n",
       "      <th>1</th>\n",
       "      <td>26dc41664_0_10576.tiff</td>\n",
       "      <td>[[0.8213, 595.5236, 2.7035, 595.9822], [3.1453...</td>\n",
       "      <td>[0.2273, 0.2135]</td>\n",
       "    </tr>\n",
       "    <tr>\n",
       "      <th>2</th>\n",
       "      <td>26dc41664_0_11237.tiff</td>\n",
       "      <td>[[6.092, 595.8847, 10.6282, 595.9988], [2.6143...</td>\n",
       "      <td>[0.3, 0.2998, 0.083, 0.0738]</td>\n",
       "    </tr>\n",
       "    <tr>\n",
       "      <th>3</th>\n",
       "      <td>26dc41664_0_11898.tiff</td>\n",
       "      <td>[[0.9095, 595.4414, 2.7767, 596.0], [3.2004, 5...</td>\n",
       "      <td>[0.1307, 0.1217]</td>\n",
       "    </tr>\n",
       "    <tr>\n",
       "      <th>4</th>\n",
       "      <td>26dc41664_0_12559.tiff</td>\n",
       "      <td>[[2.488, 595.9504, 4.4031, 596.0], [0.8694, 59...</td>\n",
       "      <td>[0.3689, 0.076, 0.0659]</td>\n",
       "    </tr>\n",
       "  </tbody>\n",
       "</table>\n",
       "</div>"
      ],
      "text/plain": [
       "                 filename                                              boxes  \\\n",
       "0      26dc41664_0_0.tiff  [[351.8979, 595.6012, 353.0101, 595.9781], [35...   \n",
       "1  26dc41664_0_10576.tiff  [[0.8213, 595.5236, 2.7035, 595.9822], [3.1453...   \n",
       "2  26dc41664_0_11237.tiff  [[6.092, 595.8847, 10.6282, 595.9988], [2.6143...   \n",
       "3  26dc41664_0_11898.tiff  [[0.9095, 595.4414, 2.7767, 596.0], [3.2004, 5...   \n",
       "4  26dc41664_0_12559.tiff  [[2.488, 595.9504, 4.4031, 596.0], [0.8694, 59...   \n",
       "\n",
       "                         scores  \n",
       "0               [0.185, 0.0802]  \n",
       "1              [0.2273, 0.2135]  \n",
       "2  [0.3, 0.2998, 0.083, 0.0738]  \n",
       "3              [0.1307, 0.1217]  \n",
       "4       [0.3689, 0.076, 0.0659]  "
      ]
     },
     "execution_count": 12,
     "metadata": {},
     "output_type": "execute_result"
    }
   ],
   "source": [
    "df.head()"
   ]
  },
  {
   "cell_type": "code",
   "execution_count": 13,
   "id": "environmental-poison",
   "metadata": {},
   "outputs": [],
   "source": [
    "new_df = []\n",
    "\n",
    "for idx in range(3073):\n",
    "    img_name = df.loc[idx][0]\n",
    "    path = os.path.join('../test/images/slices', img_name)\n",
    "    img_array = tiff.imread(path)\n",
    "\n",
    "    for ele in range(len(df.loc[idx]['scores'])):\n",
    "        d = {}\n",
    "        if len(df.loc[idx]['scores']) == 1:\n",
    "            score = np.round(df.loc[idx][\"scores\"][ele], decimals= 4)\n",
    "            boxes = df.loc[idx]['boxes']\n",
    "        else:\n",
    "            score = np.round(df.loc[idx][\"scores\"][ele], decimals= 4)\n",
    "            boxes = df.loc[idx]['boxes'][ele]\n",
    "        \n",
    "        if score > 0.9:\n",
    "            d['filename'] = img_name\n",
    "            d['img_size'] = img_array.shape\n",
    "            d['target'] = ele\n",
    "            d['xmin'] = boxes[0]\n",
    "            d['ymin'] = boxes[1]\n",
    "            d['xmax'] = boxes[2]\n",
    "            d['ymax'] = boxes[3]\n",
    "            d['boxes'] = boxes\n",
    "            d['scores'] = score\n",
    "            \n",
    "            new_df.append(d)"
   ]
  },
  {
   "cell_type": "code",
   "execution_count": 14,
   "id": "capital-withdrawal",
   "metadata": {},
   "outputs": [],
   "source": [
    "targets = pd.DataFrame(new_df)"
   ]
  },
  {
   "cell_type": "markdown",
   "id": "induced-suffering",
   "metadata": {},
   "source": [
    "### Add original filenames and original size columns"
   ]
  },
  {
   "cell_type": "code",
   "execution_count": 17,
   "id": "mineral-chemical",
   "metadata": {},
   "outputs": [],
   "source": [
    "originals = sorted(os.listdir('../test/images'))[0:10:2]"
   ]
  },
  {
   "cell_type": "code",
   "execution_count": 40,
   "id": "inside-lecture",
   "metadata": {},
   "outputs": [],
   "source": [
    "original_sizes = []\n",
    "for i in originals:\n",
    "    d = {}\n",
    "    path = os.path.join('../test/images/', i)\n",
    "    array = tiff.imread(path)\n",
    "    if len(array.shape) == 5:\n",
    "        array = array.squeeze().transpose(1, 2, 0)\n",
    "    d['filename'] = i[:-5]\n",
    "    d['original_size'] = array.shape[:-1]\n",
    "    original_sizes.append(d)"
   ]
  },
  {
   "cell_type": "code",
   "execution_count": 43,
   "id": "similar-islam",
   "metadata": {},
   "outputs": [],
   "source": [
    "real_sizes=pd.DataFrame(original_sizes)"
   ]
  },
  {
   "cell_type": "code",
   "execution_count": 51,
   "id": "proprietary-desktop",
   "metadata": {
    "scrolled": true
   },
   "outputs": [],
   "source": [
    "targets['original_filename'] = targets['filename'].map(lambda x: x[:9])"
   ]
  },
  {
   "cell_type": "code",
   "execution_count": 15,
   "id": "allied-circular",
   "metadata": {},
   "outputs": [
    {
     "data": {
      "text/html": [
       "<div>\n",
       "<style scoped>\n",
       "    .dataframe tbody tr th:only-of-type {\n",
       "        vertical-align: middle;\n",
       "    }\n",
       "\n",
       "    .dataframe tbody tr th {\n",
       "        vertical-align: top;\n",
       "    }\n",
       "\n",
       "    .dataframe thead th {\n",
       "        text-align: right;\n",
       "    }\n",
       "</style>\n",
       "<table border=\"1\" class=\"dataframe\">\n",
       "  <thead>\n",
       "    <tr style=\"text-align: right;\">\n",
       "      <th></th>\n",
       "      <th>filename</th>\n",
       "      <th>img_size</th>\n",
       "      <th>target</th>\n",
       "      <th>xmin</th>\n",
       "      <th>ymin</th>\n",
       "      <th>xmax</th>\n",
       "      <th>ymax</th>\n",
       "      <th>boxes</th>\n",
       "      <th>scores</th>\n",
       "    </tr>\n",
       "  </thead>\n",
       "  <tbody>\n",
       "    <tr>\n",
       "      <th>0</th>\n",
       "      <td>26dc41664_10132_13881.tiff</td>\n",
       "      <td>(596, 661)</td>\n",
       "      <td>0</td>\n",
       "      <td>307.4098</td>\n",
       "      <td>295.7395</td>\n",
       "      <td>469.9866</td>\n",
       "      <td>422.9715</td>\n",
       "      <td>[307.4098, 295.7395, 469.9866, 422.9715]</td>\n",
       "      <td>0.9623</td>\n",
       "    </tr>\n",
       "    <tr>\n",
       "      <th>1</th>\n",
       "      <td>26dc41664_10132_15203.tiff</td>\n",
       "      <td>(596, 661)</td>\n",
       "      <td>0</td>\n",
       "      <td>236.3699</td>\n",
       "      <td>88.3256</td>\n",
       "      <td>475.1046</td>\n",
       "      <td>274.9074</td>\n",
       "      <td>[236.3699, 88.3256, 475.1046, 274.9074]</td>\n",
       "      <td>0.9496</td>\n",
       "    </tr>\n",
       "    <tr>\n",
       "      <th>2</th>\n",
       "      <td>26dc41664_10132_17847.tiff</td>\n",
       "      <td>(596, 661)</td>\n",
       "      <td>0</td>\n",
       "      <td>215.0557</td>\n",
       "      <td>264.8056</td>\n",
       "      <td>408.7051</td>\n",
       "      <td>419.6268</td>\n",
       "      <td>[215.0557, 264.8056, 408.7051, 419.6268]</td>\n",
       "      <td>0.9452</td>\n",
       "    </tr>\n",
       "    <tr>\n",
       "      <th>3</th>\n",
       "      <td>26dc41664_10132_18508.tiff</td>\n",
       "      <td>(596, 661)</td>\n",
       "      <td>0</td>\n",
       "      <td>63.1179</td>\n",
       "      <td>457.6605</td>\n",
       "      <td>266.5054</td>\n",
       "      <td>595.5453</td>\n",
       "      <td>[63.1179, 457.6605, 266.5054, 595.5453]</td>\n",
       "      <td>0.9865</td>\n",
       "    </tr>\n",
       "    <tr>\n",
       "      <th>4</th>\n",
       "      <td>26dc41664_10132_3966.tiff</td>\n",
       "      <td>(596, 661)</td>\n",
       "      <td>0</td>\n",
       "      <td>530.9509</td>\n",
       "      <td>20.2528</td>\n",
       "      <td>661.0000</td>\n",
       "      <td>172.5583</td>\n",
       "      <td>[530.9509, 20.2528, 661.0, 172.5583]</td>\n",
       "      <td>0.9115</td>\n",
       "    </tr>\n",
       "    <tr>\n",
       "      <th>5</th>\n",
       "      <td>26dc41664_10728_15203.tiff</td>\n",
       "      <td>(596, 661)</td>\n",
       "      <td>0</td>\n",
       "      <td>255.5544</td>\n",
       "      <td>429.3421</td>\n",
       "      <td>479.8551</td>\n",
       "      <td>594.9636</td>\n",
       "      <td>[255.5544, 429.3421, 479.8551, 594.9636]</td>\n",
       "      <td>0.9689</td>\n",
       "    </tr>\n",
       "    <tr>\n",
       "      <th>6</th>\n",
       "      <td>26dc41664_10728_17186.tiff</td>\n",
       "      <td>(596, 661)</td>\n",
       "      <td>0</td>\n",
       "      <td>216.3970</td>\n",
       "      <td>334.6497</td>\n",
       "      <td>408.0965</td>\n",
       "      <td>491.6394</td>\n",
       "      <td>[216.397, 334.6497, 408.0965, 491.6394]</td>\n",
       "      <td>0.9629</td>\n",
       "    </tr>\n",
       "    <tr>\n",
       "      <th>7</th>\n",
       "      <td>26dc41664_10728_17186.tiff</td>\n",
       "      <td>(596, 661)</td>\n",
       "      <td>1</td>\n",
       "      <td>63.8716</td>\n",
       "      <td>168.7273</td>\n",
       "      <td>223.6911</td>\n",
       "      <td>315.7713</td>\n",
       "      <td>[63.8716, 168.7273, 223.6911, 315.7713]</td>\n",
       "      <td>0.9319</td>\n",
       "    </tr>\n",
       "    <tr>\n",
       "      <th>8</th>\n",
       "      <td>26dc41664_11324_13220.tiff</td>\n",
       "      <td>(596, 661)</td>\n",
       "      <td>0</td>\n",
       "      <td>266.8625</td>\n",
       "      <td>15.8819</td>\n",
       "      <td>485.0984</td>\n",
       "      <td>306.5435</td>\n",
       "      <td>[266.8625, 15.8819, 485.0984, 306.5435]</td>\n",
       "      <td>0.9139</td>\n",
       "    </tr>\n",
       "    <tr>\n",
       "      <th>9</th>\n",
       "      <td>26dc41664_11324_14542.tiff</td>\n",
       "      <td>(596, 661)</td>\n",
       "      <td>0</td>\n",
       "      <td>0.0000</td>\n",
       "      <td>282.6719</td>\n",
       "      <td>186.9622</td>\n",
       "      <td>507.3418</td>\n",
       "      <td>[0.0, 282.6719, 186.9622, 507.3418]</td>\n",
       "      <td>0.9116</td>\n",
       "    </tr>\n",
       "  </tbody>\n",
       "</table>\n",
       "</div>"
      ],
      "text/plain": [
       "                     filename    img_size  target      xmin      ymin  \\\n",
       "0  26dc41664_10132_13881.tiff  (596, 661)       0  307.4098  295.7395   \n",
       "1  26dc41664_10132_15203.tiff  (596, 661)       0  236.3699   88.3256   \n",
       "2  26dc41664_10132_17847.tiff  (596, 661)       0  215.0557  264.8056   \n",
       "3  26dc41664_10132_18508.tiff  (596, 661)       0   63.1179  457.6605   \n",
       "4   26dc41664_10132_3966.tiff  (596, 661)       0  530.9509   20.2528   \n",
       "5  26dc41664_10728_15203.tiff  (596, 661)       0  255.5544  429.3421   \n",
       "6  26dc41664_10728_17186.tiff  (596, 661)       0  216.3970  334.6497   \n",
       "7  26dc41664_10728_17186.tiff  (596, 661)       1   63.8716  168.7273   \n",
       "8  26dc41664_11324_13220.tiff  (596, 661)       0  266.8625   15.8819   \n",
       "9  26dc41664_11324_14542.tiff  (596, 661)       0    0.0000  282.6719   \n",
       "\n",
       "       xmax      ymax                                     boxes  scores  \n",
       "0  469.9866  422.9715  [307.4098, 295.7395, 469.9866, 422.9715]  0.9623  \n",
       "1  475.1046  274.9074   [236.3699, 88.3256, 475.1046, 274.9074]  0.9496  \n",
       "2  408.7051  419.6268  [215.0557, 264.8056, 408.7051, 419.6268]  0.9452  \n",
       "3  266.5054  595.5453   [63.1179, 457.6605, 266.5054, 595.5453]  0.9865  \n",
       "4  661.0000  172.5583      [530.9509, 20.2528, 661.0, 172.5583]  0.9115  \n",
       "5  479.8551  594.9636  [255.5544, 429.3421, 479.8551, 594.9636]  0.9689  \n",
       "6  408.0965  491.6394   [216.397, 334.6497, 408.0965, 491.6394]  0.9629  \n",
       "7  223.6911  315.7713   [63.8716, 168.7273, 223.6911, 315.7713]  0.9319  \n",
       "8  485.0984  306.5435   [266.8625, 15.8819, 485.0984, 306.5435]  0.9139  \n",
       "9  186.9622  507.3418       [0.0, 282.6719, 186.9622, 507.3418]  0.9116  "
      ]
     },
     "execution_count": 15,
     "metadata": {},
     "output_type": "execute_result"
    }
   ],
   "source": [
    "targets.head(10)"
   ]
  },
  {
   "cell_type": "code",
   "execution_count": 60,
   "id": "maritime-defeat",
   "metadata": {},
   "outputs": [],
   "source": [
    "targets = pd.merge(targets, real_sizes, left_on='original_filename', right_on='filename')"
   ]
  },
  {
   "cell_type": "code",
   "execution_count": 62,
   "id": "computational-monday",
   "metadata": {},
   "outputs": [],
   "source": [
    "targets = targets.drop('filename_y', axis=1)"
   ]
  },
  {
   "cell_type": "code",
   "execution_count": 70,
   "id": "three-explosion",
   "metadata": {},
   "outputs": [],
   "source": [
    "targets = targets.rename(columns = {'filename_x': 'filename'})"
   ]
  },
  {
   "cell_type": "code",
   "execution_count": 93,
   "id": "relative-august",
   "metadata": {},
   "outputs": [],
   "source": [
    "targets.to_csv('../CSVs/targets.csv', index=False)"
   ]
  },
  {
   "cell_type": "markdown",
   "id": "julian-separation",
   "metadata": {},
   "source": [
    "### Slice out targets and save the images"
   ]
  },
  {
   "cell_type": "code",
   "execution_count": 21,
   "id": "waiting-career",
   "metadata": {},
   "outputs": [],
   "source": [
    "for idx in range(len(targets)):\n",
    "    img = targets.loc[idx]['filename']\n",
    "    img_name = targets.loc[idx]['filename'][:-5]\n",
    "\n",
    "    path = os.path.join('../test/images/slices', img)\n",
    "    img_array = tiff.imread(path)\n",
    "    image = Image.fromarray(img_array)\n",
    "\n",
    "    xmin = int(targets.loc[idx]['xmin'])\n",
    "    ymin = int(targets.loc[idx]['ymin'])\n",
    "    xmax = int(targets.loc[idx]['xmax'])\n",
    "    ymax = int(targets.loc[idx]['ymax'])\n",
    "\n",
    "    Image.fromarray(np.array(image)[ymin:ymax, xmin:xmax]).save(f'../test/boxed/{img}_tgt_{idx}.tiff')"
   ]
  }
 ],
 "metadata": {
  "kernelspec": {
   "display_name": "Python 3",
   "language": "python",
   "name": "python3"
  },
  "language_info": {
   "codemirror_mode": {
    "name": "ipython",
    "version": 3
   },
   "file_extension": ".py",
   "mimetype": "text/x-python",
   "name": "python",
   "nbconvert_exporter": "python",
   "pygments_lexer": "ipython3",
   "version": "3.8.5"
  }
 },
 "nbformat": 4,
 "nbformat_minor": 5
}
