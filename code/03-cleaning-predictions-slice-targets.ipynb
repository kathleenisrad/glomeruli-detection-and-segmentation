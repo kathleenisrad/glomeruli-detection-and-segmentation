{
 "cells": [
  {
   "cell_type": "markdown",
   "id": "supreme-stylus",
   "metadata": {},
   "source": [
    "# Cleaning the predictions dataframe & slice out the targets\n",
    "There was probably a better way to save the predictions."
   ]
  },
  {
   "cell_type": "markdown",
   "id": "tropical-master",
   "metadata": {},
   "source": [
    "### Import things"
   ]
  },
  {
   "cell_type": "code",
   "execution_count": 1,
   "id": "laden-victorian",
   "metadata": {},
   "outputs": [],
   "source": [
    "import os\n",
    "import cv2\n",
    "import numpy as np\n",
    "import pandas as pd\n",
    "\n",
    "import tifffile as tiff\n",
    "from PIL import Image, ImageDraw\n",
    "from torchvision.transforms import ToPILImage  \n",
    "import matplotlib.pyplot as plt"
   ]
  },
  {
   "cell_type": "code",
   "execution_count": 2,
   "id": "reliable-primary",
   "metadata": {},
   "outputs": [],
   "source": [
    "# make a new folder for the sliced targets\n",
    "try:\n",
    "    os.mkdir('../test/boxed')\n",
    "except:\n",
    "    pass"
   ]
  },
  {
   "cell_type": "markdown",
   "id": "particular-psychology",
   "metadata": {},
   "source": [
    "### Load dataset"
   ]
  },
  {
   "cell_type": "code",
   "execution_count": 3,
   "id": "brave-proxy",
   "metadata": {},
   "outputs": [],
   "source": [
    "df = pd.read_csv('../CSVs/test_preds.csv')"
   ]
  },
  {
   "cell_type": "code",
   "execution_count": 4,
   "id": "sitting-market",
   "metadata": {},
   "outputs": [],
   "source": [
    "# we don't need the labels column\n",
    "df = df.drop('labels', axis = 1)"
   ]
  },
  {
   "cell_type": "code",
   "execution_count": 5,
   "id": "animal-texture",
   "metadata": {},
   "outputs": [
    {
     "data": {
      "text/html": [
       "<div>\n",
       "<style scoped>\n",
       "    .dataframe tbody tr th:only-of-type {\n",
       "        vertical-align: middle;\n",
       "    }\n",
       "\n",
       "    .dataframe tbody tr th {\n",
       "        vertical-align: top;\n",
       "    }\n",
       "\n",
       "    .dataframe thead th {\n",
       "        text-align: right;\n",
       "    }\n",
       "</style>\n",
       "<table border=\"1\" class=\"dataframe\">\n",
       "  <thead>\n",
       "    <tr style=\"text-align: right;\">\n",
       "      <th></th>\n",
       "      <th>filename</th>\n",
       "      <th>boxes</th>\n",
       "      <th>scores</th>\n",
       "    </tr>\n",
       "  </thead>\n",
       "  <tbody>\n",
       "    <tr>\n",
       "      <th>0</th>\n",
       "      <td>26dc41664_0_0.tiff</td>\n",
       "      <td>tensor([[ 21.2187,  20.8178, 348.1617, 579.371...</td>\n",
       "      <td>tensor([0.1147], device='cuda:0')</td>\n",
       "    </tr>\n",
       "    <tr>\n",
       "      <th>1</th>\n",
       "      <td>26dc41664_0_10576.tiff</td>\n",
       "      <td>tensor([], device='cuda:0', size=(0, 4))</td>\n",
       "      <td>tensor([], device='cuda:0')</td>\n",
       "    </tr>\n",
       "    <tr>\n",
       "      <th>2</th>\n",
       "      <td>26dc41664_0_11237.tiff</td>\n",
       "      <td>tensor([[130.6645, 587.1138, 219.9371, 594.747...</td>\n",
       "      <td>tensor([0.1392, 0.1108, 0.0629], device='cuda:0')</td>\n",
       "    </tr>\n",
       "    <tr>\n",
       "      <th>3</th>\n",
       "      <td>26dc41664_0_11898.tiff</td>\n",
       "      <td>tensor([[106.1907, 434.3074, 380.4201, 596.000...</td>\n",
       "      <td>tensor([0.1193], device='cuda:0')</td>\n",
       "    </tr>\n",
       "    <tr>\n",
       "      <th>4</th>\n",
       "      <td>26dc41664_0_12559.tiff</td>\n",
       "      <td>tensor([], device='cuda:0', size=(0, 4))</td>\n",
       "      <td>tensor([], device='cuda:0')</td>\n",
       "    </tr>\n",
       "  </tbody>\n",
       "</table>\n",
       "</div>"
      ],
      "text/plain": [
       "                 filename                                              boxes  \\\n",
       "0      26dc41664_0_0.tiff  tensor([[ 21.2187,  20.8178, 348.1617, 579.371...   \n",
       "1  26dc41664_0_10576.tiff           tensor([], device='cuda:0', size=(0, 4))   \n",
       "2  26dc41664_0_11237.tiff  tensor([[130.6645, 587.1138, 219.9371, 594.747...   \n",
       "3  26dc41664_0_11898.tiff  tensor([[106.1907, 434.3074, 380.4201, 596.000...   \n",
       "4  26dc41664_0_12559.tiff           tensor([], device='cuda:0', size=(0, 4))   \n",
       "\n",
       "                                              scores  \n",
       "0                  tensor([0.1147], device='cuda:0')  \n",
       "1                        tensor([], device='cuda:0')  \n",
       "2  tensor([0.1392, 0.1108, 0.0629], device='cuda:0')  \n",
       "3                  tensor([0.1193], device='cuda:0')  \n",
       "4                        tensor([], device='cuda:0')  "
      ]
     },
     "execution_count": 5,
     "metadata": {},
     "output_type": "execute_result"
    }
   ],
   "source": [
    "df.head()"
   ]
  },
  {
   "cell_type": "markdown",
   "id": "noble-liberia",
   "metadata": {},
   "source": [
    "### Cleaning"
   ]
  },
  {
   "cell_type": "markdown",
   "id": "false-auditor",
   "metadata": {},
   "source": [
    "The boxes and scores columns are strings of tensor arrays.  \n",
    "I need to turn them into lists of lists.\n",
    "\n",
    "    1. split by '[', get rid of index 0\n",
    "    2. join by '['\n",
    "    3. split again by ']', get rid of last index\n",
    "    4. join by ']'\n",
    "    5. get rid of extra spaces\n",
    "    6. get rid of the '\\n'\n",
    "    7. use eval() on the columns "
   ]
  },
  {
   "cell_type": "code",
   "execution_count": 6,
   "id": "lasting-confidentiality",
   "metadata": {},
   "outputs": [],
   "source": [
    "# steps 1 - 6 for boxes\n",
    "df['boxes'] = df['boxes'].map(lambda x:']'.join('['.join(x.split('[')[1:]).split(']')[:-1]).replace(' ', '').replace('\\n', ' '))"
   ]
  },
  {
   "cell_type": "code",
   "execution_count": 7,
   "id": "dependent-payroll",
   "metadata": {},
   "outputs": [],
   "source": [
    "# steps 1 - 6 for scores\n",
    "df['scores'] = df['scores'].map(lambda x: ']'.join('['.join(x.split('[')[1:]).split(']')[:-1]).replace(' ', '').replace('\\n', ' '))"
   ]
  },
  {
   "cell_type": "code",
   "execution_count": 8,
   "id": "ambient-legislature",
   "metadata": {
    "scrolled": true
   },
   "outputs": [],
   "source": [
    "# step 7 for boxes\n",
    "l = []\n",
    "for rows in range(len(df['boxes'])):\n",
    "    e = df['boxes'][rows]\n",
    "    if len(df['boxes'][rows]) > 0:\n",
    "        e = list(eval(df['boxes'][rows]))\n",
    "    l.append(e)\n",
    "\n",
    "df['boxes'] = l"
   ]
  },
  {
   "cell_type": "code",
   "execution_count": 9,
   "id": "tight-sector",
   "metadata": {},
   "outputs": [],
   "source": [
    "# drop the boxes with no targets\n",
    "df = df[df['boxes'] != '']\n",
    "\n",
    "# reset the index\n",
    "df = df.reset_index(drop=True)"
   ]
  },
  {
   "cell_type": "markdown",
   "id": "viral-exception",
   "metadata": {},
   "source": [
    "### Save the new clean predictions dataframe"
   ]
  },
  {
   "cell_type": "code",
   "execution_count": 10,
   "id": "deluxe-header",
   "metadata": {},
   "outputs": [],
   "source": [
    "# turn the strings in the scores column into floats\n",
    "df['scores'] = df['scores'].map(lambda x: [float(y) for y in x.split(',')])"
   ]
  },
  {
   "cell_type": "code",
   "execution_count": 11,
   "id": "unlikely-morning",
   "metadata": {},
   "outputs": [],
   "source": [
    "df.to_csv('../CSVs/preds_clean.csv', index=False)"
   ]
  },
  {
   "cell_type": "markdown",
   "id": "coordinate-employer",
   "metadata": {},
   "source": [
    "### Making a new dataframe of just the targets"
   ]
  },
  {
   "cell_type": "code",
   "execution_count": 12,
   "id": "utility-circular",
   "metadata": {},
   "outputs": [
    {
     "data": {
      "text/html": [
       "<div>\n",
       "<style scoped>\n",
       "    .dataframe tbody tr th:only-of-type {\n",
       "        vertical-align: middle;\n",
       "    }\n",
       "\n",
       "    .dataframe tbody tr th {\n",
       "        vertical-align: top;\n",
       "    }\n",
       "\n",
       "    .dataframe thead th {\n",
       "        text-align: right;\n",
       "    }\n",
       "</style>\n",
       "<table border=\"1\" class=\"dataframe\">\n",
       "  <thead>\n",
       "    <tr style=\"text-align: right;\">\n",
       "      <th></th>\n",
       "      <th>filename</th>\n",
       "      <th>boxes</th>\n",
       "      <th>scores</th>\n",
       "    </tr>\n",
       "  </thead>\n",
       "  <tbody>\n",
       "    <tr>\n",
       "      <th>0</th>\n",
       "      <td>26dc41664_0_0.tiff</td>\n",
       "      <td>[21.2187, 20.8178, 348.1617, 579.3714]</td>\n",
       "      <td>[0.1147]</td>\n",
       "    </tr>\n",
       "    <tr>\n",
       "      <th>1</th>\n",
       "      <td>26dc41664_0_11237.tiff</td>\n",
       "      <td>[[130.6645, 587.1138, 219.9371, 594.747], [117...</td>\n",
       "      <td>[0.1392, 0.1108, 0.0629]</td>\n",
       "    </tr>\n",
       "    <tr>\n",
       "      <th>2</th>\n",
       "      <td>26dc41664_0_11898.tiff</td>\n",
       "      <td>[106.1907, 434.3074, 380.4201, 596.0]</td>\n",
       "      <td>[0.1193]</td>\n",
       "    </tr>\n",
       "    <tr>\n",
       "      <th>3</th>\n",
       "      <td>26dc41664_0_1322.tiff</td>\n",
       "      <td>[[0.0, 317.703, 294.4255, 581.2195], [559.3757...</td>\n",
       "      <td>[0.1837, 0.1632, 0.0716]</td>\n",
       "    </tr>\n",
       "    <tr>\n",
       "      <th>4</th>\n",
       "      <td>26dc41664_0_13220.tiff</td>\n",
       "      <td>[0.0, 100.0075, 80.7845, 185.2113]</td>\n",
       "      <td>[0.0932]</td>\n",
       "    </tr>\n",
       "  </tbody>\n",
       "</table>\n",
       "</div>"
      ],
      "text/plain": [
       "                 filename                                              boxes  \\\n",
       "0      26dc41664_0_0.tiff             [21.2187, 20.8178, 348.1617, 579.3714]   \n",
       "1  26dc41664_0_11237.tiff  [[130.6645, 587.1138, 219.9371, 594.747], [117...   \n",
       "2  26dc41664_0_11898.tiff              [106.1907, 434.3074, 380.4201, 596.0]   \n",
       "3   26dc41664_0_1322.tiff  [[0.0, 317.703, 294.4255, 581.2195], [559.3757...   \n",
       "4  26dc41664_0_13220.tiff                 [0.0, 100.0075, 80.7845, 185.2113]   \n",
       "\n",
       "                     scores  \n",
       "0                  [0.1147]  \n",
       "1  [0.1392, 0.1108, 0.0629]  \n",
       "2                  [0.1193]  \n",
       "3  [0.1837, 0.1632, 0.0716]  \n",
       "4                  [0.0932]  "
      ]
     },
     "execution_count": 12,
     "metadata": {},
     "output_type": "execute_result"
    }
   ],
   "source": [
    "df.head()"
   ]
  },
  {
   "cell_type": "code",
   "execution_count": 13,
   "id": "environmental-poison",
   "metadata": {},
   "outputs": [],
   "source": [
    "new_df = []\n",
    "\n",
    "for idx in range(3073):\n",
    "    img_name = df.loc[idx][0]\n",
    "    path = os.path.join('../test/images/slices', img_name)\n",
    "    img_array = tiff.imread(path)\n",
    "\n",
    "    for ele in range(len(df.loc[idx]['scores'])):\n",
    "        d = {}\n",
    "        if len(df.loc[idx]['scores']) == 1:\n",
    "            score = np.round(df.loc[idx][\"scores\"][ele], decimals= 4)\n",
    "            boxes = df.loc[idx]['boxes']\n",
    "        else:\n",
    "            score = np.round(df.loc[idx][\"scores\"][ele], decimals= 4)\n",
    "            boxes = df.loc[idx]['boxes'][ele]\n",
    "        \n",
    "        if score > 0.9:\n",
    "            d['filename'] = img_name\n",
    "            d['img_size'] = img_array.shape\n",
    "            d['target'] = ele\n",
    "            d['xmin'] = boxes[0]\n",
    "            d['ymin'] = boxes[1]\n",
    "            d['xmax'] = boxes[2]\n",
    "            d['ymax'] = boxes[3]\n",
    "            d['boxes'] = boxes\n",
    "            d['scores'] = score\n",
    "            \n",
    "            new_df.append(d)"
   ]
  },
  {
   "cell_type": "code",
   "execution_count": 14,
   "id": "capital-withdrawal",
   "metadata": {},
   "outputs": [],
   "source": [
    "targets = pd.DataFrame(new_df)"
   ]
  },
  {
   "cell_type": "markdown",
   "id": "induced-suffering",
   "metadata": {},
   "source": [
    "### Add original filenames and original size columns"
   ]
  },
  {
   "cell_type": "code",
   "execution_count": 15,
   "id": "mineral-chemical",
   "metadata": {},
   "outputs": [],
   "source": [
    "originals = sorted(os.listdir('../test/images'))[0:10:2]"
   ]
  },
  {
   "cell_type": "code",
   "execution_count": 16,
   "id": "inside-lecture",
   "metadata": {},
   "outputs": [],
   "source": [
    "original_sizes = []\n",
    "for i in originals:\n",
    "    d = {}\n",
    "    path = os.path.join('../test/images/', i)\n",
    "    array = tiff.imread(path)\n",
    "    if len(array.shape) == 5:\n",
    "        array = array.squeeze().transpose(1, 2, 0)\n",
    "    d['filename'] = i[:-5]\n",
    "    d['original_size'] = array.shape[:-1]\n",
    "    original_sizes.append(d)"
   ]
  },
  {
   "cell_type": "code",
   "execution_count": 17,
   "id": "similar-islam",
   "metadata": {},
   "outputs": [],
   "source": [
    "real_sizes=pd.DataFrame(original_sizes)"
   ]
  },
  {
   "cell_type": "code",
   "execution_count": 18,
   "id": "proprietary-desktop",
   "metadata": {
    "scrolled": true
   },
   "outputs": [],
   "source": [
    "targets['original_filename'] = targets['filename'].map(lambda x: x[:9])"
   ]
  },
  {
   "cell_type": "code",
   "execution_count": 19,
   "id": "allied-circular",
   "metadata": {},
   "outputs": [
    {
     "data": {
      "text/html": [
       "<div>\n",
       "<style scoped>\n",
       "    .dataframe tbody tr th:only-of-type {\n",
       "        vertical-align: middle;\n",
       "    }\n",
       "\n",
       "    .dataframe tbody tr th {\n",
       "        vertical-align: top;\n",
       "    }\n",
       "\n",
       "    .dataframe thead th {\n",
       "        text-align: right;\n",
       "    }\n",
       "</style>\n",
       "<table border=\"1\" class=\"dataframe\">\n",
       "  <thead>\n",
       "    <tr style=\"text-align: right;\">\n",
       "      <th></th>\n",
       "      <th>filename</th>\n",
       "      <th>img_size</th>\n",
       "      <th>target</th>\n",
       "      <th>xmin</th>\n",
       "      <th>ymin</th>\n",
       "      <th>xmax</th>\n",
       "      <th>ymax</th>\n",
       "      <th>boxes</th>\n",
       "      <th>scores</th>\n",
       "      <th>original_filename</th>\n",
       "    </tr>\n",
       "  </thead>\n",
       "  <tbody>\n",
       "    <tr>\n",
       "      <th>0</th>\n",
       "      <td>26dc41664_10132_1322.tiff</td>\n",
       "      <td>(596, 661)</td>\n",
       "      <td>0</td>\n",
       "      <td>630.2668</td>\n",
       "      <td>312.7975</td>\n",
       "      <td>660.6740</td>\n",
       "      <td>461.6491</td>\n",
       "      <td>[630.2668, 312.7975, 660.674, 461.6491]</td>\n",
       "      <td>0.9509</td>\n",
       "      <td>26dc41664</td>\n",
       "    </tr>\n",
       "    <tr>\n",
       "      <th>1</th>\n",
       "      <td>26dc41664_10132_13220.tiff</td>\n",
       "      <td>(596, 661)</td>\n",
       "      <td>0</td>\n",
       "      <td>312.5899</td>\n",
       "      <td>256.5700</td>\n",
       "      <td>518.7542</td>\n",
       "      <td>445.8070</td>\n",
       "      <td>[312.5899, 256.57, 518.7542, 445.807]</td>\n",
       "      <td>0.9850</td>\n",
       "      <td>26dc41664</td>\n",
       "    </tr>\n",
       "    <tr>\n",
       "      <th>2</th>\n",
       "      <td>26dc41664_10132_13881.tiff</td>\n",
       "      <td>(596, 661)</td>\n",
       "      <td>0</td>\n",
       "      <td>560.7600</td>\n",
       "      <td>104.6000</td>\n",
       "      <td>659.3500</td>\n",
       "      <td>320.7200</td>\n",
       "      <td>[560.76, 104.6, 659.35, 320.72]</td>\n",
       "      <td>0.9953</td>\n",
       "      <td>26dc41664</td>\n",
       "    </tr>\n",
       "    <tr>\n",
       "      <th>3</th>\n",
       "      <td>26dc41664_10132_13881.tiff</td>\n",
       "      <td>(596, 661)</td>\n",
       "      <td>1</td>\n",
       "      <td>304.9100</td>\n",
       "      <td>291.8800</td>\n",
       "      <td>464.3500</td>\n",
       "      <td>421.0100</td>\n",
       "      <td>[304.91, 291.88, 464.35, 421.01]</td>\n",
       "      <td>0.9920</td>\n",
       "      <td>26dc41664</td>\n",
       "    </tr>\n",
       "    <tr>\n",
       "      <th>4</th>\n",
       "      <td>26dc41664_10132_13881.tiff</td>\n",
       "      <td>(596, 661)</td>\n",
       "      <td>2</td>\n",
       "      <td>3.0319</td>\n",
       "      <td>69.2260</td>\n",
       "      <td>130.9100</td>\n",
       "      <td>314.8700</td>\n",
       "      <td>[3.0319, 69.226, 130.91, 314.87]</td>\n",
       "      <td>0.9106</td>\n",
       "      <td>26dc41664</td>\n",
       "    </tr>\n",
       "    <tr>\n",
       "      <th>5</th>\n",
       "      <td>26dc41664_10132_14542.tiff</td>\n",
       "      <td>(596, 661)</td>\n",
       "      <td>0</td>\n",
       "      <td>0.0000</td>\n",
       "      <td>115.7061</td>\n",
       "      <td>139.6929</td>\n",
       "      <td>316.9232</td>\n",
       "      <td>[0.0, 115.7061, 139.6929, 316.9232]</td>\n",
       "      <td>0.9832</td>\n",
       "      <td>26dc41664</td>\n",
       "    </tr>\n",
       "    <tr>\n",
       "      <th>6</th>\n",
       "      <td>26dc41664_10132_15203.tiff</td>\n",
       "      <td>(596, 661)</td>\n",
       "      <td>0</td>\n",
       "      <td>238.0342</td>\n",
       "      <td>89.8419</td>\n",
       "      <td>459.9461</td>\n",
       "      <td>284.3080</td>\n",
       "      <td>[238.0342, 89.8419, 459.9461, 284.308]</td>\n",
       "      <td>0.9964</td>\n",
       "      <td>26dc41664</td>\n",
       "    </tr>\n",
       "    <tr>\n",
       "      <th>7</th>\n",
       "      <td>26dc41664_10132_16525.tiff</td>\n",
       "      <td>(596, 661)</td>\n",
       "      <td>0</td>\n",
       "      <td>315.1032</td>\n",
       "      <td>527.9118</td>\n",
       "      <td>540.7087</td>\n",
       "      <td>595.5145</td>\n",
       "      <td>[315.1032, 527.9118, 540.7087, 595.5145]</td>\n",
       "      <td>0.9510</td>\n",
       "      <td>26dc41664</td>\n",
       "    </tr>\n",
       "    <tr>\n",
       "      <th>8</th>\n",
       "      <td>26dc41664_10132_17847.tiff</td>\n",
       "      <td>(596, 661)</td>\n",
       "      <td>0</td>\n",
       "      <td>211.7310</td>\n",
       "      <td>252.4900</td>\n",
       "      <td>418.7977</td>\n",
       "      <td>425.9188</td>\n",
       "      <td>[211.731, 252.49, 418.7977, 425.9188]</td>\n",
       "      <td>0.9943</td>\n",
       "      <td>26dc41664</td>\n",
       "    </tr>\n",
       "    <tr>\n",
       "      <th>9</th>\n",
       "      <td>26dc41664_10132_17847.tiff</td>\n",
       "      <td>(596, 661)</td>\n",
       "      <td>1</td>\n",
       "      <td>105.1100</td>\n",
       "      <td>543.1493</td>\n",
       "      <td>252.5496</td>\n",
       "      <td>596.0000</td>\n",
       "      <td>[105.11, 543.1493, 252.5496, 596.0]</td>\n",
       "      <td>0.9640</td>\n",
       "      <td>26dc41664</td>\n",
       "    </tr>\n",
       "  </tbody>\n",
       "</table>\n",
       "</div>"
      ],
      "text/plain": [
       "                     filename    img_size  target      xmin      ymin  \\\n",
       "0   26dc41664_10132_1322.tiff  (596, 661)       0  630.2668  312.7975   \n",
       "1  26dc41664_10132_13220.tiff  (596, 661)       0  312.5899  256.5700   \n",
       "2  26dc41664_10132_13881.tiff  (596, 661)       0  560.7600  104.6000   \n",
       "3  26dc41664_10132_13881.tiff  (596, 661)       1  304.9100  291.8800   \n",
       "4  26dc41664_10132_13881.tiff  (596, 661)       2    3.0319   69.2260   \n",
       "5  26dc41664_10132_14542.tiff  (596, 661)       0    0.0000  115.7061   \n",
       "6  26dc41664_10132_15203.tiff  (596, 661)       0  238.0342   89.8419   \n",
       "7  26dc41664_10132_16525.tiff  (596, 661)       0  315.1032  527.9118   \n",
       "8  26dc41664_10132_17847.tiff  (596, 661)       0  211.7310  252.4900   \n",
       "9  26dc41664_10132_17847.tiff  (596, 661)       1  105.1100  543.1493   \n",
       "\n",
       "       xmax      ymax                                     boxes  scores  \\\n",
       "0  660.6740  461.6491   [630.2668, 312.7975, 660.674, 461.6491]  0.9509   \n",
       "1  518.7542  445.8070     [312.5899, 256.57, 518.7542, 445.807]  0.9850   \n",
       "2  659.3500  320.7200           [560.76, 104.6, 659.35, 320.72]  0.9953   \n",
       "3  464.3500  421.0100          [304.91, 291.88, 464.35, 421.01]  0.9920   \n",
       "4  130.9100  314.8700          [3.0319, 69.226, 130.91, 314.87]  0.9106   \n",
       "5  139.6929  316.9232       [0.0, 115.7061, 139.6929, 316.9232]  0.9832   \n",
       "6  459.9461  284.3080    [238.0342, 89.8419, 459.9461, 284.308]  0.9964   \n",
       "7  540.7087  595.5145  [315.1032, 527.9118, 540.7087, 595.5145]  0.9510   \n",
       "8  418.7977  425.9188     [211.731, 252.49, 418.7977, 425.9188]  0.9943   \n",
       "9  252.5496  596.0000       [105.11, 543.1493, 252.5496, 596.0]  0.9640   \n",
       "\n",
       "  original_filename  \n",
       "0         26dc41664  \n",
       "1         26dc41664  \n",
       "2         26dc41664  \n",
       "3         26dc41664  \n",
       "4         26dc41664  \n",
       "5         26dc41664  \n",
       "6         26dc41664  \n",
       "7         26dc41664  \n",
       "8         26dc41664  \n",
       "9         26dc41664  "
      ]
     },
     "execution_count": 19,
     "metadata": {},
     "output_type": "execute_result"
    }
   ],
   "source": [
    "targets.head(10)"
   ]
  },
  {
   "cell_type": "code",
   "execution_count": 20,
   "id": "maritime-defeat",
   "metadata": {},
   "outputs": [],
   "source": [
    "targets = pd.merge(targets, real_sizes, left_on='original_filename', right_on='filename')"
   ]
  },
  {
   "cell_type": "code",
   "execution_count": 21,
   "id": "computational-monday",
   "metadata": {},
   "outputs": [],
   "source": [
    "targets = targets.drop('filename_y', axis=1)"
   ]
  },
  {
   "cell_type": "code",
   "execution_count": 22,
   "id": "three-explosion",
   "metadata": {},
   "outputs": [],
   "source": [
    "targets = targets.rename(columns = {'filename_x': 'filename'})"
   ]
  },
  {
   "cell_type": "code",
   "execution_count": 23,
   "id": "relative-august",
   "metadata": {},
   "outputs": [],
   "source": [
    "targets.to_csv('../CSVs/targets.csv', index=False)"
   ]
  },
  {
   "cell_type": "markdown",
   "id": "julian-separation",
   "metadata": {},
   "source": [
    "### Slice out targets and save the images"
   ]
  },
  {
   "cell_type": "code",
   "execution_count": 24,
   "id": "waiting-career",
   "metadata": {},
   "outputs": [],
   "source": [
    "for idx in range(len(targets)):\n",
    "    img = targets.loc[idx]['filename']\n",
    "    img_name = targets.loc[idx]['filename'][:-5]\n",
    "\n",
    "    path = os.path.join('../test/images/slices', img)\n",
    "    img_array = tiff.imread(path)\n",
    "    image = Image.fromarray(img_array)\n",
    "\n",
    "    xmin = int(targets.loc[idx]['xmin'])\n",
    "    ymin = int(targets.loc[idx]['ymin'])\n",
    "    xmax = int(targets.loc[idx]['xmax'])\n",
    "    ymax = int(targets.loc[idx]['ymax'])\n",
    "\n",
    "    Image.fromarray(np.array(image)[ymin:ymax, xmin:xmax]).save(f'../test/boxed/{img}_tgt_{idx}.tiff')"
   ]
  }
 ],
 "metadata": {
  "kernelspec": {
   "display_name": "Python 3",
   "language": "python",
   "name": "python3"
  },
  "language_info": {
   "codemirror_mode": {
    "name": "ipython",
    "version": 3
   },
   "file_extension": ".py",
   "mimetype": "text/x-python",
   "name": "python",
   "nbconvert_exporter": "python",
   "pygments_lexer": "ipython3",
   "version": "3.8.5"
  }
 },
 "nbformat": 4,
 "nbformat_minor": 5
}
